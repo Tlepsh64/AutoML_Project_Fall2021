{
 "cells": [
  {
   "cell_type": "code",
   "execution_count": 1,
   "id": "5aa5e4b2",
   "metadata": {},
   "outputs": [],
   "source": [
    "import pandas as pd\n",
    "from statsmodels.stats.contingency_tables import mcnemar"
   ]
  },
  {
   "cell_type": "code",
   "execution_count": 2,
   "id": "4728b6be",
   "metadata": {},
   "outputs": [],
   "source": [
    "higgs_whole = pd.read_csv('./Predictions & Whole Data/HIGGS.csv', header=None, skiprows = range(0,10500000))"
   ]
  },
  {
   "cell_type": "code",
   "execution_count": 3,
   "id": "a63d0f92",
   "metadata": {},
   "outputs": [
    {
     "data": {
      "text/plain": [
       "(500000, 29)"
      ]
     },
     "execution_count": 3,
     "metadata": {},
     "output_type": "execute_result"
    }
   ],
   "source": [
    "higgs_whole.shape"
   ]
  },
  {
   "cell_type": "code",
   "execution_count": 4,
   "id": "87a89df6",
   "metadata": {
    "scrolled": true
   },
   "outputs": [
    {
     "data": {
      "text/plain": [
       "0         0\n",
       "1         1\n",
       "2         1\n",
       "3         0\n",
       "4         0\n",
       "         ..\n",
       "499995    1\n",
       "499996    1\n",
       "499997    1\n",
       "499998    0\n",
       "499999    0\n",
       "Name: 0, Length: 500000, dtype: int32"
      ]
     },
     "execution_count": 4,
     "metadata": {},
     "output_type": "execute_result"
    }
   ],
   "source": [
    "higgs_whole = higgs_whole[0].astype(int)\n",
    "higgs_whole"
   ]
  },
  {
   "cell_type": "code",
   "execution_count": 5,
   "id": "28cc029c",
   "metadata": {},
   "outputs": [],
   "source": [
    "test_set = higgs_whole\n",
    "default_preds = pd.read_csv('./Predictions & Whole Data/default_xgboost_preds_on_big_test_set.csv', header=None, dtype=int)\n",
    "tuned_preds = pd.read_csv('./Predictions & Whole Data/optimized_xgboost_preds_on_big_test_set.csv', header=None, dtype=int)"
   ]
  },
  {
   "cell_type": "code",
   "execution_count": 6,
   "id": "e248b3a4",
   "metadata": {},
   "outputs": [
    {
     "data": {
      "text/html": [
       "<div>\n",
       "<style scoped>\n",
       "    .dataframe tbody tr th:only-of-type {\n",
       "        vertical-align: middle;\n",
       "    }\n",
       "\n",
       "    .dataframe tbody tr th {\n",
       "        vertical-align: top;\n",
       "    }\n",
       "\n",
       "    .dataframe thead th {\n",
       "        text-align: right;\n",
       "    }\n",
       "</style>\n",
       "<table border=\"1\" class=\"dataframe\">\n",
       "  <thead>\n",
       "    <tr style=\"text-align: right;\">\n",
       "      <th></th>\n",
       "      <th>ground_truth</th>\n",
       "      <th>y_pred_default</th>\n",
       "      <th>y_pred_tuned</th>\n",
       "    </tr>\n",
       "  </thead>\n",
       "  <tbody>\n",
       "    <tr>\n",
       "      <th>0</th>\n",
       "      <td>0</td>\n",
       "      <td>0</td>\n",
       "      <td>0</td>\n",
       "    </tr>\n",
       "    <tr>\n",
       "      <th>1</th>\n",
       "      <td>1</td>\n",
       "      <td>1</td>\n",
       "      <td>1</td>\n",
       "    </tr>\n",
       "    <tr>\n",
       "      <th>2</th>\n",
       "      <td>1</td>\n",
       "      <td>1</td>\n",
       "      <td>1</td>\n",
       "    </tr>\n",
       "    <tr>\n",
       "      <th>3</th>\n",
       "      <td>0</td>\n",
       "      <td>0</td>\n",
       "      <td>0</td>\n",
       "    </tr>\n",
       "    <tr>\n",
       "      <th>4</th>\n",
       "      <td>0</td>\n",
       "      <td>0</td>\n",
       "      <td>0</td>\n",
       "    </tr>\n",
       "  </tbody>\n",
       "</table>\n",
       "</div>"
      ],
      "text/plain": [
       "   ground_truth  y_pred_default  y_pred_tuned\n",
       "0             0               0             0\n",
       "1             1               1             1\n",
       "2             1               1             1\n",
       "3             0               0             0\n",
       "4             0               0             0"
      ]
     },
     "execution_count": 6,
     "metadata": {},
     "output_type": "execute_result"
    }
   ],
   "source": [
    "mc_data = pd.DataFrame()\n",
    "mc_data['ground_truth'] = higgs_whole\n",
    "mc_data['y_pred_default'] = default_preds.values\n",
    "mc_data['y_pred_tuned'] = tuned_preds.values\n",
    "mc_data.head()"
   ]
  },
  {
   "cell_type": "code",
   "execution_count": 7,
   "id": "5ff98699",
   "metadata": {},
   "outputs": [
    {
     "data": {
      "text/html": [
       "<div>\n",
       "<style scoped>\n",
       "    .dataframe tbody tr th:only-of-type {\n",
       "        vertical-align: middle;\n",
       "    }\n",
       "\n",
       "    .dataframe tbody tr th {\n",
       "        vertical-align: top;\n",
       "    }\n",
       "\n",
       "    .dataframe thead th {\n",
       "        text-align: right;\n",
       "    }\n",
       "</style>\n",
       "<table border=\"1\" class=\"dataframe\">\n",
       "  <thead>\n",
       "    <tr style=\"text-align: right;\">\n",
       "      <th></th>\n",
       "      <th>ground_truth</th>\n",
       "      <th>y_pred_default</th>\n",
       "      <th>y_pred_tuned</th>\n",
       "      <th>correct_default</th>\n",
       "      <th>correct_tuned</th>\n",
       "    </tr>\n",
       "  </thead>\n",
       "  <tbody>\n",
       "    <tr>\n",
       "      <th>0</th>\n",
       "      <td>0</td>\n",
       "      <td>0</td>\n",
       "      <td>0</td>\n",
       "      <td>Yes</td>\n",
       "      <td>Yes</td>\n",
       "    </tr>\n",
       "    <tr>\n",
       "      <th>1</th>\n",
       "      <td>1</td>\n",
       "      <td>1</td>\n",
       "      <td>1</td>\n",
       "      <td>Yes</td>\n",
       "      <td>Yes</td>\n",
       "    </tr>\n",
       "    <tr>\n",
       "      <th>2</th>\n",
       "      <td>1</td>\n",
       "      <td>1</td>\n",
       "      <td>1</td>\n",
       "      <td>Yes</td>\n",
       "      <td>Yes</td>\n",
       "    </tr>\n",
       "    <tr>\n",
       "      <th>3</th>\n",
       "      <td>0</td>\n",
       "      <td>0</td>\n",
       "      <td>0</td>\n",
       "      <td>Yes</td>\n",
       "      <td>Yes</td>\n",
       "    </tr>\n",
       "    <tr>\n",
       "      <th>4</th>\n",
       "      <td>0</td>\n",
       "      <td>0</td>\n",
       "      <td>0</td>\n",
       "      <td>Yes</td>\n",
       "      <td>Yes</td>\n",
       "    </tr>\n",
       "  </tbody>\n",
       "</table>\n",
       "</div>"
      ],
      "text/plain": [
       "   ground_truth  y_pred_default  y_pred_tuned correct_default correct_tuned\n",
       "0             0               0             0             Yes           Yes\n",
       "1             1               1             1             Yes           Yes\n",
       "2             1               1             1             Yes           Yes\n",
       "3             0               0             0             Yes           Yes\n",
       "4             0               0             0             Yes           Yes"
      ]
     },
     "execution_count": 7,
     "metadata": {},
     "output_type": "execute_result"
    }
   ],
   "source": [
    "mc_data.loc[mc_data['ground_truth']==mc_data['y_pred_default'],'correct_default']=\"Yes\"\n",
    "mc_data.loc[mc_data['ground_truth']==mc_data['y_pred_tuned'],'correct_tuned']=\"Yes\"\n",
    "mc_data.loc[mc_data['ground_truth']!=mc_data['y_pred_default'],'correct_default']=\"No\"\n",
    "mc_data.loc[mc_data['ground_truth']!=mc_data['y_pred_tuned'],'correct_tuned']=\"No\"\n",
    "mc_data.head()"
   ]
  },
  {
   "cell_type": "code",
   "execution_count": 8,
   "id": "435d7b39",
   "metadata": {},
   "outputs": [],
   "source": [
    "nr_corr_default_corr_tuned=0\n",
    "nr_corr_default_incorr_tuned=0\n",
    "nr_incorr_default_corr_tuned=0\n",
    "nr_incorr_default_incorr_tuned=0\n",
    "\n",
    "for index, row in mc_data.iterrows():\n",
    "    \n",
    "    if  row['correct_default']== \"Yes\" and  row['correct_tuned']==\"Yes\":\n",
    "        nr_corr_default_corr_tuned += 1\n",
    "        \n",
    "    elif row['correct_default']== \"Yes\" and  row['correct_tuned']==\"No\":\n",
    "        nr_corr_default_incorr_tuned += 1\n",
    "        \n",
    "    elif row['correct_default']== \"No\" and  row['correct_tuned']==\"Yes\":\n",
    "        nr_incorr_default_corr_tuned += 1\n",
    "        \n",
    "    elif row['correct_default']== \"No\" and  row['correct_tuned']==\"No\":\n",
    "        nr_incorr_default_incorr_tuned += 1"
   ]
  },
  {
   "cell_type": "code",
   "execution_count": 9,
   "id": "36067949",
   "metadata": {},
   "outputs": [
    {
     "data": {
      "text/html": [
       "<div>\n",
       "<style scoped>\n",
       "    .dataframe tbody tr th:only-of-type {\n",
       "        vertical-align: middle;\n",
       "    }\n",
       "\n",
       "    .dataframe tbody tr th {\n",
       "        vertical-align: top;\n",
       "    }\n",
       "\n",
       "    .dataframe thead th {\n",
       "        text-align: right;\n",
       "    }\n",
       "</style>\n",
       "<table border=\"1\" class=\"dataframe\">\n",
       "  <thead>\n",
       "    <tr style=\"text-align: right;\">\n",
       "      <th></th>\n",
       "      <th>nr_correct_default</th>\n",
       "      <th>nr_incorrect_default</th>\n",
       "    </tr>\n",
       "  </thead>\n",
       "  <tbody>\n",
       "    <tr>\n",
       "      <th>nr_correct_tuned</th>\n",
       "      <td>Yes/Yes</td>\n",
       "      <td>Yes/No</td>\n",
       "    </tr>\n",
       "    <tr>\n",
       "      <th>nr_incorrect_tuned</th>\n",
       "      <td>No/Yes</td>\n",
       "      <td>No/No</td>\n",
       "    </tr>\n",
       "  </tbody>\n",
       "</table>\n",
       "</div>"
      ],
      "text/plain": [
       "                   nr_correct_default nr_incorrect_default\n",
       "nr_correct_tuned              Yes/Yes               Yes/No\n",
       "nr_incorrect_tuned             No/Yes                No/No"
      ]
     },
     "execution_count": 9,
     "metadata": {},
     "output_type": "execute_result"
    }
   ],
   "source": [
    "contingency_table_df=pd.DataFrame(data={\"nr_correct_default\":[\"Yes/Yes\",\"No/Yes\"], \n",
    "                                        \"nr_incorrect_default\":[\"Yes/No\",\"No/No\"]}, \n",
    "                                  index=[\"nr_correct_tuned\",\"nr_incorrect_tuned\"])\n",
    "contingency_table_df"
   ]
  },
  {
   "cell_type": "code",
   "execution_count": 10,
   "id": "6ef53a72",
   "metadata": {},
   "outputs": [
    {
     "data": {
      "text/html": [
       "<div>\n",
       "<style scoped>\n",
       "    .dataframe tbody tr th:only-of-type {\n",
       "        vertical-align: middle;\n",
       "    }\n",
       "\n",
       "    .dataframe tbody tr th {\n",
       "        vertical-align: top;\n",
       "    }\n",
       "\n",
       "    .dataframe thead th {\n",
       "        text-align: right;\n",
       "    }\n",
       "</style>\n",
       "<table border=\"1\" class=\"dataframe\">\n",
       "  <thead>\n",
       "    <tr style=\"text-align: right;\">\n",
       "      <th></th>\n",
       "      <th>nr_correct_default</th>\n",
       "      <th>nr_incorrect_default</th>\n",
       "    </tr>\n",
       "  </thead>\n",
       "  <tbody>\n",
       "    <tr>\n",
       "      <th>nr_correct_tuned</th>\n",
       "      <td>358807</td>\n",
       "      <td>17866</td>\n",
       "    </tr>\n",
       "    <tr>\n",
       "      <th>nr_incorrect_tuned</th>\n",
       "      <td>12205</td>\n",
       "      <td>111122</td>\n",
       "    </tr>\n",
       "  </tbody>\n",
       "</table>\n",
       "</div>"
      ],
      "text/plain": [
       "                   nr_correct_default nr_incorrect_default\n",
       "nr_correct_tuned               358807                17866\n",
       "nr_incorrect_tuned              12205               111122"
      ]
     },
     "execution_count": 10,
     "metadata": {},
     "output_type": "execute_result"
    }
   ],
   "source": [
    "contingency_table_df.iloc[0,0] = nr_corr_default_corr_tuned\n",
    "contingency_table_df.iloc[0,1] = nr_incorr_default_corr_tuned\n",
    "contingency_table_df.iloc[1,0] = nr_corr_default_incorr_tuned\n",
    "contingency_table_df.iloc[1,1] = nr_incorr_default_incorr_tuned\n",
    "\n",
    "contingency_table_df"
   ]
  },
  {
   "cell_type": "code",
   "execution_count": 11,
   "id": "952dd16d",
   "metadata": {},
   "outputs": [
    {
     "name": "stdout",
     "output_type": "stream",
     "text": [
      "Test statistic=1065.332, p-value=0.000\n",
      "\n",
      "Different proportions of errors for the used models (reject H0). \n",
      "Therefore the performance difference between two models are statistically significant.\n"
     ]
    }
   ],
   "source": [
    "contingency_table = [[358807, 17866],\n",
    "                     [12205, 111122]]\n",
    "\n",
    "# Apply McNemar test\n",
    "result = mcnemar(contingency_table, exact=False, correction=True)\n",
    "print('Test statistic=%.3f, p-value=%.3f' % (result.statistic, result.pvalue))\n",
    "print()\n",
    "# interpret the p-value\n",
    "alpha = 0.05\n",
    "if result.pvalue > alpha:\n",
    "    print('Same proportions of errors for the used models (fail to reject H0). Therefore the performance difference between two models are not statistically significant.')\n",
    "\n",
    "else:\n",
    "    print(\"\"\"Different proportions of errors for the used models (reject H0). \n",
    "Therefore the performance difference between two models are statistically significant.\"\"\")"
   ]
  }
 ],
 "metadata": {
  "kernelspec": {
   "display_name": "Python 3",
   "language": "python",
   "name": "python3"
  },
  "language_info": {
   "codemirror_mode": {
    "name": "ipython",
    "version": 3
   },
   "file_extension": ".py",
   "mimetype": "text/x-python",
   "name": "python",
   "nbconvert_exporter": "python",
   "pygments_lexer": "ipython3",
   "version": "3.8.10"
  }
 },
 "nbformat": 4,
 "nbformat_minor": 5
}
