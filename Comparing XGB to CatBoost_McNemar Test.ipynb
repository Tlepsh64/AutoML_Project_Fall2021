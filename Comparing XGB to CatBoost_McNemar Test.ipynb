{
 "cells": [
  {
   "cell_type": "code",
   "execution_count": 1,
   "id": "5aa5e4b2",
   "metadata": {},
   "outputs": [],
   "source": [
    "import pandas as pd\n",
    "from statsmodels.stats.contingency_tables import mcnemar"
   ]
  },
  {
   "cell_type": "code",
   "execution_count": 2,
   "id": "4728b6be",
   "metadata": {},
   "outputs": [],
   "source": [
    "higgs_whole = pd.read_csv('./Predictions & Whole Data/HIGGS.csv', header=None, skiprows = range(0,10500000))"
   ]
  },
  {
   "cell_type": "code",
   "execution_count": 3,
   "id": "a63d0f92",
   "metadata": {},
   "outputs": [
    {
     "data": {
      "text/plain": [
       "(500000, 29)"
      ]
     },
     "execution_count": 3,
     "metadata": {},
     "output_type": "execute_result"
    }
   ],
   "source": [
    "higgs_whole.shape"
   ]
  },
  {
   "cell_type": "code",
   "execution_count": 4,
   "id": "87a89df6",
   "metadata": {
    "scrolled": true
   },
   "outputs": [
    {
     "data": {
      "text/plain": [
       "0         0\n",
       "1         1\n",
       "2         1\n",
       "3         0\n",
       "4         0\n",
       "         ..\n",
       "499995    1\n",
       "499996    1\n",
       "499997    1\n",
       "499998    0\n",
       "499999    0\n",
       "Name: 0, Length: 500000, dtype: int32"
      ]
     },
     "execution_count": 4,
     "metadata": {},
     "output_type": "execute_result"
    }
   ],
   "source": [
    "higgs_whole = higgs_whole[0].astype(int)\n",
    "higgs_whole"
   ]
  },
  {
   "cell_type": "code",
   "execution_count": 5,
   "id": "28cc029c",
   "metadata": {},
   "outputs": [],
   "source": [
    "test_set = higgs_whole\n",
    "cb_preds = pd.read_csv('./Predictions & Whole Data/optimal_catboost_preds.csv', header=None, dtype=int)\n",
    "xgb_preds = pd.read_csv('./Predictions & Whole Data/optimized_xgboost_preds_on_big_test_set.csv', header=None, dtype=int)"
   ]
  },
  {
   "cell_type": "code",
   "execution_count": 6,
   "id": "e248b3a4",
   "metadata": {},
   "outputs": [
    {
     "data": {
      "text/html": [
       "<div>\n",
       "<style scoped>\n",
       "    .dataframe tbody tr th:only-of-type {\n",
       "        vertical-align: middle;\n",
       "    }\n",
       "\n",
       "    .dataframe tbody tr th {\n",
       "        vertical-align: top;\n",
       "    }\n",
       "\n",
       "    .dataframe thead th {\n",
       "        text-align: right;\n",
       "    }\n",
       "</style>\n",
       "<table border=\"1\" class=\"dataframe\">\n",
       "  <thead>\n",
       "    <tr style=\"text-align: right;\">\n",
       "      <th></th>\n",
       "      <th>ground_truth</th>\n",
       "      <th>y_pred_cb</th>\n",
       "      <th>y_pred_xgb</th>\n",
       "    </tr>\n",
       "  </thead>\n",
       "  <tbody>\n",
       "    <tr>\n",
       "      <th>0</th>\n",
       "      <td>0</td>\n",
       "      <td>0</td>\n",
       "      <td>0</td>\n",
       "    </tr>\n",
       "    <tr>\n",
       "      <th>1</th>\n",
       "      <td>1</td>\n",
       "      <td>1</td>\n",
       "      <td>1</td>\n",
       "    </tr>\n",
       "    <tr>\n",
       "      <th>2</th>\n",
       "      <td>1</td>\n",
       "      <td>1</td>\n",
       "      <td>1</td>\n",
       "    </tr>\n",
       "    <tr>\n",
       "      <th>3</th>\n",
       "      <td>0</td>\n",
       "      <td>0</td>\n",
       "      <td>0</td>\n",
       "    </tr>\n",
       "    <tr>\n",
       "      <th>4</th>\n",
       "      <td>0</td>\n",
       "      <td>1</td>\n",
       "      <td>0</td>\n",
       "    </tr>\n",
       "  </tbody>\n",
       "</table>\n",
       "</div>"
      ],
      "text/plain": [
       "   ground_truth  y_pred_cb  y_pred_xgb\n",
       "0             0          0           0\n",
       "1             1          1           1\n",
       "2             1          1           1\n",
       "3             0          0           0\n",
       "4             0          1           0"
      ]
     },
     "execution_count": 6,
     "metadata": {},
     "output_type": "execute_result"
    }
   ],
   "source": [
    "mc_data = pd.DataFrame()\n",
    "mc_data['ground_truth'] = higgs_whole\n",
    "mc_data['y_pred_cb'] = cb_preds.values\n",
    "mc_data['y_pred_xgb'] = xgb_preds.values\n",
    "mc_data.head()"
   ]
  },
  {
   "cell_type": "code",
   "execution_count": 7,
   "id": "5ff98699",
   "metadata": {},
   "outputs": [
    {
     "data": {
      "text/html": [
       "<div>\n",
       "<style scoped>\n",
       "    .dataframe tbody tr th:only-of-type {\n",
       "        vertical-align: middle;\n",
       "    }\n",
       "\n",
       "    .dataframe tbody tr th {\n",
       "        vertical-align: top;\n",
       "    }\n",
       "\n",
       "    .dataframe thead th {\n",
       "        text-align: right;\n",
       "    }\n",
       "</style>\n",
       "<table border=\"1\" class=\"dataframe\">\n",
       "  <thead>\n",
       "    <tr style=\"text-align: right;\">\n",
       "      <th></th>\n",
       "      <th>ground_truth</th>\n",
       "      <th>y_pred_cb</th>\n",
       "      <th>y_pred_xgb</th>\n",
       "      <th>correct_cb</th>\n",
       "      <th>correct_xgb</th>\n",
       "    </tr>\n",
       "  </thead>\n",
       "  <tbody>\n",
       "    <tr>\n",
       "      <th>0</th>\n",
       "      <td>0</td>\n",
       "      <td>0</td>\n",
       "      <td>0</td>\n",
       "      <td>Yes</td>\n",
       "      <td>Yes</td>\n",
       "    </tr>\n",
       "    <tr>\n",
       "      <th>1</th>\n",
       "      <td>1</td>\n",
       "      <td>1</td>\n",
       "      <td>1</td>\n",
       "      <td>Yes</td>\n",
       "      <td>Yes</td>\n",
       "    </tr>\n",
       "    <tr>\n",
       "      <th>2</th>\n",
       "      <td>1</td>\n",
       "      <td>1</td>\n",
       "      <td>1</td>\n",
       "      <td>Yes</td>\n",
       "      <td>Yes</td>\n",
       "    </tr>\n",
       "    <tr>\n",
       "      <th>3</th>\n",
       "      <td>0</td>\n",
       "      <td>0</td>\n",
       "      <td>0</td>\n",
       "      <td>Yes</td>\n",
       "      <td>Yes</td>\n",
       "    </tr>\n",
       "    <tr>\n",
       "      <th>4</th>\n",
       "      <td>0</td>\n",
       "      <td>1</td>\n",
       "      <td>0</td>\n",
       "      <td>No</td>\n",
       "      <td>Yes</td>\n",
       "    </tr>\n",
       "  </tbody>\n",
       "</table>\n",
       "</div>"
      ],
      "text/plain": [
       "   ground_truth  y_pred_cb  y_pred_xgb correct_cb correct_xgb\n",
       "0             0          0           0        Yes         Yes\n",
       "1             1          1           1        Yes         Yes\n",
       "2             1          1           1        Yes         Yes\n",
       "3             0          0           0        Yes         Yes\n",
       "4             0          1           0         No         Yes"
      ]
     },
     "execution_count": 7,
     "metadata": {},
     "output_type": "execute_result"
    }
   ],
   "source": [
    "mc_data.loc[mc_data['ground_truth']==mc_data['y_pred_cb'],'correct_cb']=\"Yes\"\n",
    "mc_data.loc[mc_data['ground_truth']==mc_data['y_pred_xgb'],'correct_xgb']=\"Yes\"\n",
    "mc_data.loc[mc_data['ground_truth']!=mc_data['y_pred_cb'],'correct_cb']=\"No\"\n",
    "mc_data.loc[mc_data['ground_truth']!=mc_data['y_pred_xgb'],'correct_xgb']=\"No\"\n",
    "mc_data.head()"
   ]
  },
  {
   "cell_type": "code",
   "execution_count": 8,
   "id": "435d7b39",
   "metadata": {},
   "outputs": [],
   "source": [
    "nr_corr_cb_corr_xgb=0\n",
    "nr_corr_cb_incorr_xgb=0\n",
    "nr_incorr_cb_corr_xgb=0\n",
    "nr_incorr_cb_incorr_xgb=0\n",
    "\n",
    "for index, row in mc_data.iterrows():\n",
    "    \n",
    "    if  row['correct_cb']== \"Yes\" and  row['correct_xgb']==\"Yes\":\n",
    "        nr_corr_cb_corr_xgb += 1\n",
    "        \n",
    "    elif row['correct_cb']== \"Yes\" and  row['correct_xgb']==\"No\":\n",
    "        nr_corr_cb_incorr_xgb += 1\n",
    "        \n",
    "    elif row['correct_cb']== \"No\" and  row['correct_xgb']==\"Yes\":\n",
    "        nr_incorr_cb_corr_xgb += 1\n",
    "        \n",
    "    elif row['correct_cb']== \"No\" and  row['correct_xgb']==\"No\":\n",
    "        nr_incorr_cb_incorr_xgb += 1"
   ]
  },
  {
   "cell_type": "code",
   "execution_count": 9,
   "id": "36067949",
   "metadata": {},
   "outputs": [
    {
     "data": {
      "text/html": [
       "<div>\n",
       "<style scoped>\n",
       "    .dataframe tbody tr th:only-of-type {\n",
       "        vertical-align: middle;\n",
       "    }\n",
       "\n",
       "    .dataframe tbody tr th {\n",
       "        vertical-align: top;\n",
       "    }\n",
       "\n",
       "    .dataframe thead th {\n",
       "        text-align: right;\n",
       "    }\n",
       "</style>\n",
       "<table border=\"1\" class=\"dataframe\">\n",
       "  <thead>\n",
       "    <tr style=\"text-align: right;\">\n",
       "      <th></th>\n",
       "      <th>nr_correct_cb</th>\n",
       "      <th>nr_incorrect_cb</th>\n",
       "    </tr>\n",
       "  </thead>\n",
       "  <tbody>\n",
       "    <tr>\n",
       "      <th>nr_correct_xgb</th>\n",
       "      <td>Yes/Yes</td>\n",
       "      <td>Yes/No</td>\n",
       "    </tr>\n",
       "    <tr>\n",
       "      <th>nr_incorrect_xgb</th>\n",
       "      <td>No/Yes</td>\n",
       "      <td>No/No</td>\n",
       "    </tr>\n",
       "  </tbody>\n",
       "</table>\n",
       "</div>"
      ],
      "text/plain": [
       "                 nr_correct_cb nr_incorrect_cb\n",
       "nr_correct_xgb         Yes/Yes          Yes/No\n",
       "nr_incorrect_xgb        No/Yes           No/No"
      ]
     },
     "execution_count": 9,
     "metadata": {},
     "output_type": "execute_result"
    }
   ],
   "source": [
    "contingency_table_df=pd.DataFrame(data={\"nr_correct_cb\":[\"Yes/Yes\",\"No/Yes\"], \n",
    "                                        \"nr_incorrect_cb\":[\"Yes/No\",\"No/No\"]}, \n",
    "                                  index=[\"nr_correct_xgb\",\"nr_incorrect_xgb\"])\n",
    "contingency_table_df"
   ]
  },
  {
   "cell_type": "code",
   "execution_count": 10,
   "id": "6ef53a72",
   "metadata": {},
   "outputs": [
    {
     "data": {
      "text/html": [
       "<div>\n",
       "<style scoped>\n",
       "    .dataframe tbody tr th:only-of-type {\n",
       "        vertical-align: middle;\n",
       "    }\n",
       "\n",
       "    .dataframe tbody tr th {\n",
       "        vertical-align: top;\n",
       "    }\n",
       "\n",
       "    .dataframe thead th {\n",
       "        text-align: right;\n",
       "    }\n",
       "</style>\n",
       "<table border=\"1\" class=\"dataframe\">\n",
       "  <thead>\n",
       "    <tr style=\"text-align: right;\">\n",
       "      <th></th>\n",
       "      <th>nr_correct_cb</th>\n",
       "      <th>nr_incorrect_cb</th>\n",
       "    </tr>\n",
       "  </thead>\n",
       "  <tbody>\n",
       "    <tr>\n",
       "      <th>nr_correct_xgb</th>\n",
       "      <td>361819</td>\n",
       "      <td>14854</td>\n",
       "    </tr>\n",
       "    <tr>\n",
       "      <th>nr_incorrect_xgb</th>\n",
       "      <td>11529</td>\n",
       "      <td>111798</td>\n",
       "    </tr>\n",
       "  </tbody>\n",
       "</table>\n",
       "</div>"
      ],
      "text/plain": [
       "                 nr_correct_cb nr_incorrect_cb\n",
       "nr_correct_xgb          361819           14854\n",
       "nr_incorrect_xgb         11529          111798"
      ]
     },
     "execution_count": 10,
     "metadata": {},
     "output_type": "execute_result"
    }
   ],
   "source": [
    "contingency_table_df.iloc[0,0] = nr_corr_cb_corr_xgb\n",
    "contingency_table_df.iloc[0,1] = nr_incorr_cb_corr_xgb\n",
    "contingency_table_df.iloc[1,0] = nr_corr_cb_incorr_xgb\n",
    "contingency_table_df.iloc[1,1] = nr_incorr_cb_incorr_xgb\n",
    "\n",
    "contingency_table_df"
   ]
  },
  {
   "cell_type": "code",
   "execution_count": 11,
   "id": "952dd16d",
   "metadata": {},
   "outputs": [
    {
     "name": "stdout",
     "output_type": "stream",
     "text": [
      "Test statistic=418.791, p-value=0.000\n",
      "\n",
      "Different proportions of errors for the used models (reject H0). \n",
      "Therefore the performance difference between two models are statistically significant.\n"
     ]
    }
   ],
   "source": [
    "contingency_table = [[361819, 14854],\n",
    "                     [11529, 111798]]\n",
    "\n",
    "# Apply McNemar test\n",
    "result = mcnemar(contingency_table, exact=False, correction=True)\n",
    "print('Test statistic=%.3f, p-value=%.3f' % (result.statistic, result.pvalue))\n",
    "print()\n",
    "# interpret the p-value\n",
    "alpha = 0.05\n",
    "if result.pvalue > alpha:\n",
    "    print('Same proportions of errors for the used models (fail to reject H0). Therefore the performance difference between two models are not statistically significant.')\n",
    "\n",
    "else:\n",
    "    print(\"\"\"Different proportions of errors for the used models (reject H0). \n",
    "Therefore the performance difference between two models are statistically significant.\"\"\")"
   ]
  },
  {
   "cell_type": "code",
   "execution_count": null,
   "id": "fa0c4810",
   "metadata": {},
   "outputs": [],
   "source": []
  }
 ],
 "metadata": {
  "kernelspec": {
   "display_name": "Python 3",
   "language": "python",
   "name": "python3"
  },
  "language_info": {
   "codemirror_mode": {
    "name": "ipython",
    "version": 3
   },
   "file_extension": ".py",
   "mimetype": "text/x-python",
   "name": "python",
   "nbconvert_exporter": "python",
   "pygments_lexer": "ipython3",
   "version": "3.8.10"
  }
 },
 "nbformat": 4,
 "nbformat_minor": 5
}
