{
 "cells": [
  {
   "cell_type": "code",
   "execution_count": 2,
   "id": "307bbc74",
   "metadata": {},
   "outputs": [],
   "source": [
    "import pandas as pd\n",
    "import numpy as np\n",
    "\n",
    "# Models to use\n",
    "from sklearn.tree import DecisionTreeClassifier\n",
    "from sklearn.ensemble import RandomForestClassifier\n",
    "from sklearn.ensemble import ExtraTreesClassifier\n",
    "from sklearn.ensemble import GradientBoostingClassifier\n",
    "from sklearn.linear_model import LogisticRegression\n",
    "import lightgbm as lgb\n",
    "from xgboost import XGBClassifier\n",
    "import catboost as cb\n",
    "from sklearn.svm import SVC\n",
    "\n",
    "# Importing the metrics\n",
    "from sklearn.model_selection import train_test_split\n",
    "from sklearn.metrics import accuracy_score\n",
    "from sklearn.metrics import roc_auc_score\n",
    "from sklearn.metrics import classification_report\n",
    "#from sklearn.metrics import confusion_matrix\n",
    "#from sklearn.metrics import plot_confusion_matrix\n",
    "from sklearn.metrics import f1_score\n",
    "\n",
    "# For measuring the training time taken during the fit process\n",
    "import time"
   ]
  },
  {
   "cell_type": "markdown",
   "id": "32e384d0",
   "metadata": {},
   "source": [
    "## Reading & Correcting the Data"
   ]
  },
  {
   "cell_type": "code",
   "execution_count": 3,
   "id": "c6183dc4",
   "metadata": {},
   "outputs": [
    {
     "name": "stderr",
     "output_type": "stream",
     "text": [
      "C:\\Users\\canberk\\AppData\\Local\\Packages\\PythonSoftwareFoundation.Python.3.8_qbz5n2kfra8p0\\LocalCache\\local-packages\\Python38\\site-packages\\IPython\\core\\interactiveshell.py:3146: DtypeWarning: Columns (20,21,22,23,24,25,26,27,28) have mixed types.Specify dtype option on import or set low_memory=False.\n",
      "  has_raised = await self.run_ast_nodes(code_ast.body, cell_name,\n"
     ]
    },
    {
     "data": {
      "text/html": [
       "<div>\n",
       "<style scoped>\n",
       "    .dataframe tbody tr th:only-of-type {\n",
       "        vertical-align: middle;\n",
       "    }\n",
       "\n",
       "    .dataframe tbody tr th {\n",
       "        vertical-align: top;\n",
       "    }\n",
       "\n",
       "    .dataframe thead th {\n",
       "        text-align: right;\n",
       "    }\n",
       "</style>\n",
       "<table border=\"1\" class=\"dataframe\">\n",
       "  <thead>\n",
       "    <tr style=\"text-align: right;\">\n",
       "      <th></th>\n",
       "      <th>class</th>\n",
       "      <th>lepton_pT</th>\n",
       "      <th>lepton_eta</th>\n",
       "      <th>lepton_phi</th>\n",
       "      <th>missing_energy_magnitude</th>\n",
       "      <th>missing_energy_phi</th>\n",
       "      <th>jet1pt</th>\n",
       "      <th>jet1eta</th>\n",
       "      <th>jet1phi</th>\n",
       "      <th>jet1b-tag</th>\n",
       "      <th>...</th>\n",
       "      <th>jet4eta</th>\n",
       "      <th>jet4phi</th>\n",
       "      <th>jet4b-tag</th>\n",
       "      <th>m_jj</th>\n",
       "      <th>m_jjj</th>\n",
       "      <th>m_lv</th>\n",
       "      <th>m_jlv</th>\n",
       "      <th>m_bb</th>\n",
       "      <th>m_wbb</th>\n",
       "      <th>m_wwbb</th>\n",
       "    </tr>\n",
       "  </thead>\n",
       "  <tbody>\n",
       "    <tr>\n",
       "      <th>0</th>\n",
       "      <td>1</td>\n",
       "      <td>0.907542</td>\n",
       "      <td>0.329147</td>\n",
       "      <td>0.359412</td>\n",
       "      <td>1.497970</td>\n",
       "      <td>-0.313010</td>\n",
       "      <td>1.095531</td>\n",
       "      <td>-0.557525</td>\n",
       "      <td>-1.588230</td>\n",
       "      <td>2.173076</td>\n",
       "      <td>...</td>\n",
       "      <td>-1.138930</td>\n",
       "      <td>-0.000819</td>\n",
       "      <td>0.0</td>\n",
       "      <td>0.30222</td>\n",
       "      <td>0.833048</td>\n",
       "      <td>0.9857</td>\n",
       "      <td>0.978098</td>\n",
       "      <td>0.779732</td>\n",
       "      <td>0.992356</td>\n",
       "      <td>0.798343</td>\n",
       "    </tr>\n",
       "    <tr>\n",
       "      <th>1</th>\n",
       "      <td>1</td>\n",
       "      <td>0.798835</td>\n",
       "      <td>1.470639</td>\n",
       "      <td>-1.635975</td>\n",
       "      <td>0.453773</td>\n",
       "      <td>0.425629</td>\n",
       "      <td>1.104875</td>\n",
       "      <td>1.282322</td>\n",
       "      <td>1.381664</td>\n",
       "      <td>0.000000</td>\n",
       "      <td>...</td>\n",
       "      <td>1.128848</td>\n",
       "      <td>0.900461</td>\n",
       "      <td>0.0</td>\n",
       "      <td>0.909753</td>\n",
       "      <td>1.10833</td>\n",
       "      <td>0.985692</td>\n",
       "      <td>0.951331</td>\n",
       "      <td>0.803252</td>\n",
       "      <td>0.865924</td>\n",
       "      <td>0.780118</td>\n",
       "    </tr>\n",
       "    <tr>\n",
       "      <th>2</th>\n",
       "      <td>0</td>\n",
       "      <td>1.344385</td>\n",
       "      <td>-0.876626</td>\n",
       "      <td>0.935913</td>\n",
       "      <td>1.992050</td>\n",
       "      <td>0.882454</td>\n",
       "      <td>1.786066</td>\n",
       "      <td>-1.646778</td>\n",
       "      <td>-0.942383</td>\n",
       "      <td>0.000000</td>\n",
       "      <td>...</td>\n",
       "      <td>-0.678379</td>\n",
       "      <td>-1.360356</td>\n",
       "      <td>0.0</td>\n",
       "      <td>0.946652</td>\n",
       "      <td>1.028704</td>\n",
       "      <td>0.998656</td>\n",
       "      <td>0.728281</td>\n",
       "      <td>0.8692</td>\n",
       "      <td>1.026736</td>\n",
       "      <td>0.957904</td>\n",
       "    </tr>\n",
       "    <tr>\n",
       "      <th>3</th>\n",
       "      <td>1</td>\n",
       "      <td>1.105009</td>\n",
       "      <td>0.321356</td>\n",
       "      <td>1.522401</td>\n",
       "      <td>0.882808</td>\n",
       "      <td>-1.205349</td>\n",
       "      <td>0.681466</td>\n",
       "      <td>-1.070464</td>\n",
       "      <td>-0.921871</td>\n",
       "      <td>0.000000</td>\n",
       "      <td>...</td>\n",
       "      <td>-0.373566</td>\n",
       "      <td>0.113041</td>\n",
       "      <td>0.0</td>\n",
       "      <td>0.755856</td>\n",
       "      <td>1.361057</td>\n",
       "      <td>0.98661</td>\n",
       "      <td>0.838085</td>\n",
       "      <td>1.133295</td>\n",
       "      <td>0.872245</td>\n",
       "      <td>0.808487</td>\n",
       "    </tr>\n",
       "    <tr>\n",
       "      <th>4</th>\n",
       "      <td>0</td>\n",
       "      <td>1.595839</td>\n",
       "      <td>-0.607811</td>\n",
       "      <td>0.007075</td>\n",
       "      <td>1.818450</td>\n",
       "      <td>-0.111906</td>\n",
       "      <td>0.847550</td>\n",
       "      <td>-0.566437</td>\n",
       "      <td>1.581239</td>\n",
       "      <td>2.173076</td>\n",
       "      <td>...</td>\n",
       "      <td>-0.654227</td>\n",
       "      <td>-1.274345</td>\n",
       "      <td>3.101961</td>\n",
       "      <td>0.823761</td>\n",
       "      <td>0.938191</td>\n",
       "      <td>0.971758</td>\n",
       "      <td>0.789176</td>\n",
       "      <td>0.430553</td>\n",
       "      <td>0.961357</td>\n",
       "      <td>0.957818</td>\n",
       "    </tr>\n",
       "  </tbody>\n",
       "</table>\n",
       "<p>5 rows × 29 columns</p>\n",
       "</div>"
      ],
      "text/plain": [
       "   class  lepton_pT  lepton_eta  lepton_phi  missing_energy_magnitude  \\\n",
       "0      1   0.907542    0.329147    0.359412                  1.497970   \n",
       "1      1   0.798835    1.470639   -1.635975                  0.453773   \n",
       "2      0   1.344385   -0.876626    0.935913                  1.992050   \n",
       "3      1   1.105009    0.321356    1.522401                  0.882808   \n",
       "4      0   1.595839   -0.607811    0.007075                  1.818450   \n",
       "\n",
       "   missing_energy_phi    jet1pt   jet1eta   jet1phi  jet1b-tag  ...   jet4eta  \\\n",
       "0           -0.313010  1.095531 -0.557525 -1.588230   2.173076  ... -1.138930   \n",
       "1            0.425629  1.104875  1.282322  1.381664   0.000000  ...  1.128848   \n",
       "2            0.882454  1.786066 -1.646778 -0.942383   0.000000  ... -0.678379   \n",
       "3           -1.205349  0.681466 -1.070464 -0.921871   0.000000  ... -0.373566   \n",
       "4           -0.111906  0.847550 -0.566437  1.581239   2.173076  ... -0.654227   \n",
       "\n",
       "    jet4phi  jet4b-tag      m_jj     m_jjj      m_lv     m_jlv      m_bb  \\\n",
       "0 -0.000819        0.0   0.30222  0.833048    0.9857  0.978098  0.779732   \n",
       "1  0.900461        0.0  0.909753   1.10833  0.985692  0.951331  0.803252   \n",
       "2 -1.360356        0.0  0.946652  1.028704  0.998656  0.728281    0.8692   \n",
       "3  0.113041        0.0  0.755856  1.361057   0.98661  0.838085  1.133295   \n",
       "4 -1.274345   3.101961  0.823761  0.938191  0.971758  0.789176  0.430553   \n",
       "\n",
       "      m_wbb    m_wwbb  \n",
       "0  0.992356  0.798343  \n",
       "1  0.865924  0.780118  \n",
       "2  1.026736  0.957904  \n",
       "3  0.872245  0.808487  \n",
       "4  0.961357  0.957818  \n",
       "\n",
       "[5 rows x 29 columns]"
      ]
     },
     "execution_count": 3,
     "metadata": {},
     "output_type": "execute_result"
    }
   ],
   "source": [
    "df = pd.read_csv('data.csv')\n",
    "df.head()"
   ]
  },
  {
   "cell_type": "code",
   "execution_count": 4,
   "id": "0398b56c",
   "metadata": {},
   "outputs": [
    {
     "name": "stdout",
     "output_type": "stream",
     "text": [
      "<class 'pandas.core.frame.DataFrame'>\n",
      "RangeIndex: 98050 entries, 0 to 98049\n",
      "Data columns (total 29 columns):\n",
      " #   Column                    Non-Null Count  Dtype  \n",
      "---  ------                    --------------  -----  \n",
      " 0   class                     98050 non-null  int64  \n",
      " 1   lepton_pT                 98050 non-null  float64\n",
      " 2   lepton_eta                98050 non-null  float64\n",
      " 3   lepton_phi                98050 non-null  float64\n",
      " 4   missing_energy_magnitude  98050 non-null  float64\n",
      " 5   missing_energy_phi        98050 non-null  float64\n",
      " 6   jet1pt                    98050 non-null  float64\n",
      " 7   jet1eta                   98050 non-null  float64\n",
      " 8   jet1phi                   98050 non-null  float64\n",
      " 9   jet1b-tag                 98050 non-null  float64\n",
      " 10  jet2pt                    98050 non-null  float64\n",
      " 11  jet2eta                   98050 non-null  float64\n",
      " 12  jet2phi                   98050 non-null  float64\n",
      " 13  jet2b-tag                 98050 non-null  float64\n",
      " 14  jet3pt                    98050 non-null  float64\n",
      " 15  jet3eta                   98050 non-null  float64\n",
      " 16  jet3phi                   98050 non-null  float64\n",
      " 17  jet3b-tag                 98050 non-null  float64\n",
      " 18  jet4pt                    98050 non-null  float64\n",
      " 19  jet4eta                   98050 non-null  float64\n",
      " 20  jet4phi                   98050 non-null  object \n",
      " 21  jet4b-tag                 98050 non-null  object \n",
      " 22  m_jj                      98050 non-null  object \n",
      " 23  m_jjj                     98050 non-null  object \n",
      " 24  m_lv                      98050 non-null  object \n",
      " 25  m_jlv                     98050 non-null  object \n",
      " 26  m_bb                      98050 non-null  object \n",
      " 27  m_wbb                     98050 non-null  object \n",
      " 28  m_wwbb                    98050 non-null  object \n",
      "dtypes: float64(19), int64(1), object(9)\n",
      "memory usage: 21.7+ MB\n"
     ]
    }
   ],
   "source": [
    "df.info()"
   ]
  },
  {
   "cell_type": "markdown",
   "id": "f2558c4a",
   "metadata": {},
   "source": [
    "Some columns are casted as objects instead of as floats. We need to change it but let me correct one thing first.\n",
    "\n",
    "The last row includes '?' characters for for some features. Since it is only one row, I will drop it from the dataframe."
   ]
  },
  {
   "cell_type": "code",
   "execution_count": 5,
   "id": "72cfe28c",
   "metadata": {
    "scrolled": true
   },
   "outputs": [
    {
     "data": {
      "text/html": [
       "<div>\n",
       "<style scoped>\n",
       "    .dataframe tbody tr th:only-of-type {\n",
       "        vertical-align: middle;\n",
       "    }\n",
       "\n",
       "    .dataframe tbody tr th {\n",
       "        vertical-align: top;\n",
       "    }\n",
       "\n",
       "    .dataframe thead th {\n",
       "        text-align: right;\n",
       "    }\n",
       "</style>\n",
       "<table border=\"1\" class=\"dataframe\">\n",
       "  <thead>\n",
       "    <tr style=\"text-align: right;\">\n",
       "      <th></th>\n",
       "      <th>class</th>\n",
       "      <th>lepton_pT</th>\n",
       "      <th>lepton_eta</th>\n",
       "      <th>lepton_phi</th>\n",
       "      <th>missing_energy_magnitude</th>\n",
       "      <th>missing_energy_phi</th>\n",
       "      <th>jet1pt</th>\n",
       "      <th>jet1eta</th>\n",
       "      <th>jet1phi</th>\n",
       "      <th>jet1b-tag</th>\n",
       "      <th>...</th>\n",
       "      <th>jet4eta</th>\n",
       "      <th>jet4phi</th>\n",
       "      <th>jet4b-tag</th>\n",
       "      <th>m_jj</th>\n",
       "      <th>m_jjj</th>\n",
       "      <th>m_lv</th>\n",
       "      <th>m_jlv</th>\n",
       "      <th>m_bb</th>\n",
       "      <th>m_wbb</th>\n",
       "      <th>m_wwbb</th>\n",
       "    </tr>\n",
       "  </thead>\n",
       "  <tbody>\n",
       "    <tr>\n",
       "      <th>98045</th>\n",
       "      <td>1</td>\n",
       "      <td>0.908091</td>\n",
       "      <td>-0.825006</td>\n",
       "      <td>-0.830871</td>\n",
       "      <td>0.736298</td>\n",
       "      <td>1.512713</td>\n",
       "      <td>0.881811</td>\n",
       "      <td>-0.363440</td>\n",
       "      <td>0.006813</td>\n",
       "      <td>1.086538</td>\n",
       "      <td>...</td>\n",
       "      <td>-0.187013</td>\n",
       "      <td>0.716784954071045</td>\n",
       "      <td>0</td>\n",
       "      <td>1.31768071651459</td>\n",
       "      <td>1.01079499721527</td>\n",
       "      <td>0.985962450504303</td>\n",
       "      <td>0.957878351211548</td>\n",
       "      <td>1.45467174053192</td>\n",
       "      <td>0.903936803340912</td>\n",
       "      <td>0.786069393157959</td>\n",
       "    </tr>\n",
       "    <tr>\n",
       "      <th>98046</th>\n",
       "      <td>0</td>\n",
       "      <td>2.512898</td>\n",
       "      <td>0.530759</td>\n",
       "      <td>-1.470626</td>\n",
       "      <td>1.641798</td>\n",
       "      <td>1.613386</td>\n",
       "      <td>0.934027</td>\n",
       "      <td>1.521958</td>\n",
       "      <td>-0.049836</td>\n",
       "      <td>0.000000</td>\n",
       "      <td>...</td>\n",
       "      <td>0.053673</td>\n",
       "      <td>-0.386482894420624</td>\n",
       "      <td>0</td>\n",
       "      <td>0.774412572383881</td>\n",
       "      <td>0.745262801647186</td>\n",
       "      <td>0.99708765745163</td>\n",
       "      <td>1.39238667488098</td>\n",
       "      <td>0.86468094587326</td>\n",
       "      <td>1.17978250980377</td>\n",
       "      <td>1.08616733551025</td>\n",
       "    </tr>\n",
       "    <tr>\n",
       "      <th>98047</th>\n",
       "      <td>0</td>\n",
       "      <td>0.903699</td>\n",
       "      <td>0.261943</td>\n",
       "      <td>-0.429149</td>\n",
       "      <td>1.892855</td>\n",
       "      <td>0.313687</td>\n",
       "      <td>0.493396</td>\n",
       "      <td>-1.494282</td>\n",
       "      <td>-1.458506</td>\n",
       "      <td>0.000000</td>\n",
       "      <td>...</td>\n",
       "      <td>-0.283621</td>\n",
       "      <td>1.1107724905014</td>\n",
       "      <td>3.10196137428284</td>\n",
       "      <td>0.527038097381592</td>\n",
       "      <td>0.60726273059845</td>\n",
       "      <td>1.12528610229492</td>\n",
       "      <td>0.634106457233429</td>\n",
       "      <td>0.115543350577354</td>\n",
       "      <td>0.425828188657761</td>\n",
       "      <td>0.692506015300751</td>\n",
       "    </tr>\n",
       "    <tr>\n",
       "      <th>98048</th>\n",
       "      <td>0</td>\n",
       "      <td>0.566047</td>\n",
       "      <td>-0.317568</td>\n",
       "      <td>0.062561</td>\n",
       "      <td>0.358186</td>\n",
       "      <td>-1.315823</td>\n",
       "      <td>0.691176</td>\n",
       "      <td>1.154583</td>\n",
       "      <td>-0.242759</td>\n",
       "      <td>2.173076</td>\n",
       "      <td>...</td>\n",
       "      <td>-0.844943</td>\n",
       "      <td>-0.294922441244125</td>\n",
       "      <td>0</td>\n",
       "      <td>0.747239172458649</td>\n",
       "      <td>1.0089750289917</td>\n",
       "      <td>0.989497303962708</td>\n",
       "      <td>1.20314705371857</td>\n",
       "      <td>0.8924919962883</td>\n",
       "      <td>1.09080731868744</td>\n",
       "      <td>0.888965249061584</td>\n",
       "    </tr>\n",
       "    <tr>\n",
       "      <th>98049</th>\n",
       "      <td>1</td>\n",
       "      <td>0.708611</td>\n",
       "      <td>1.190136</td>\n",
       "      <td>0.593008</td>\n",
       "      <td>1.899366</td>\n",
       "      <td>-0.111872</td>\n",
       "      <td>0.871276</td>\n",
       "      <td>0.982283</td>\n",
       "      <td>-1.684691</td>\n",
       "      <td>2.173076</td>\n",
       "      <td>...</td>\n",
       "      <td>1.797605</td>\n",
       "      <td>?</td>\n",
       "      <td>?</td>\n",
       "      <td>?</td>\n",
       "      <td>?</td>\n",
       "      <td>?</td>\n",
       "      <td>?</td>\n",
       "      <td>?</td>\n",
       "      <td>?</td>\n",
       "      <td>?</td>\n",
       "    </tr>\n",
       "  </tbody>\n",
       "</table>\n",
       "<p>5 rows × 29 columns</p>\n",
       "</div>"
      ],
      "text/plain": [
       "       class  lepton_pT  lepton_eta  lepton_phi  missing_energy_magnitude  \\\n",
       "98045      1   0.908091   -0.825006   -0.830871                  0.736298   \n",
       "98046      0   2.512898    0.530759   -1.470626                  1.641798   \n",
       "98047      0   0.903699    0.261943   -0.429149                  1.892855   \n",
       "98048      0   0.566047   -0.317568    0.062561                  0.358186   \n",
       "98049      1   0.708611    1.190136    0.593008                  1.899366   \n",
       "\n",
       "       missing_energy_phi    jet1pt   jet1eta   jet1phi  jet1b-tag  ...  \\\n",
       "98045            1.512713  0.881811 -0.363440  0.006813   1.086538  ...   \n",
       "98046            1.613386  0.934027  1.521958 -0.049836   0.000000  ...   \n",
       "98047            0.313687  0.493396 -1.494282 -1.458506   0.000000  ...   \n",
       "98048           -1.315823  0.691176  1.154583 -0.242759   2.173076  ...   \n",
       "98049           -0.111872  0.871276  0.982283 -1.684691   2.173076  ...   \n",
       "\n",
       "        jet4eta             jet4phi         jet4b-tag               m_jj  \\\n",
       "98045 -0.187013   0.716784954071045                 0   1.31768071651459   \n",
       "98046  0.053673  -0.386482894420624                 0  0.774412572383881   \n",
       "98047 -0.283621     1.1107724905014  3.10196137428284  0.527038097381592   \n",
       "98048 -0.844943  -0.294922441244125                 0  0.747239172458649   \n",
       "98049  1.797605                   ?                 ?                  ?   \n",
       "\n",
       "                   m_jjj               m_lv              m_jlv  \\\n",
       "98045   1.01079499721527  0.985962450504303  0.957878351211548   \n",
       "98046  0.745262801647186   0.99708765745163   1.39238667488098   \n",
       "98047   0.60726273059845   1.12528610229492  0.634106457233429   \n",
       "98048    1.0089750289917  0.989497303962708   1.20314705371857   \n",
       "98049                  ?                  ?                  ?   \n",
       "\n",
       "                    m_bb              m_wbb             m_wwbb  \n",
       "98045   1.45467174053192  0.903936803340912  0.786069393157959  \n",
       "98046   0.86468094587326   1.17978250980377   1.08616733551025  \n",
       "98047  0.115543350577354  0.425828188657761  0.692506015300751  \n",
       "98048    0.8924919962883   1.09080731868744  0.888965249061584  \n",
       "98049                  ?                  ?                  ?  \n",
       "\n",
       "[5 rows x 29 columns]"
      ]
     },
     "execution_count": 5,
     "metadata": {},
     "output_type": "execute_result"
    }
   ],
   "source": [
    "df.tail()"
   ]
  },
  {
   "cell_type": "code",
   "execution_count": 6,
   "id": "d8882cc7",
   "metadata": {},
   "outputs": [
    {
     "data": {
      "text/plain": [
       "class                       0\n",
       "lepton_pT                   0\n",
       "lepton_eta                  0\n",
       "lepton_phi                  0\n",
       "missing_energy_magnitude    0\n",
       "missing_energy_phi          0\n",
       "jet1pt                      0\n",
       "jet1eta                     0\n",
       "jet1phi                     0\n",
       "jet1b-tag                   0\n",
       "jet2pt                      0\n",
       "jet2eta                     0\n",
       "jet2phi                     0\n",
       "jet2b-tag                   0\n",
       "jet3pt                      0\n",
       "jet3eta                     0\n",
       "jet3phi                     0\n",
       "jet3b-tag                   0\n",
       "jet4pt                      0\n",
       "jet4eta                     0\n",
       "jet4phi                     1\n",
       "jet4b-tag                   1\n",
       "m_jj                        1\n",
       "m_jjj                       1\n",
       "m_lv                        1\n",
       "m_jlv                       1\n",
       "m_bb                        1\n",
       "m_wbb                       1\n",
       "m_wwbb                      1\n",
       "dtype: int64"
      ]
     },
     "execution_count": 6,
     "metadata": {},
     "output_type": "execute_result"
    }
   ],
   "source": [
    "(df == '?').sum()"
   ]
  },
  {
   "cell_type": "code",
   "execution_count": 7,
   "id": "2d29322d",
   "metadata": {},
   "outputs": [],
   "source": [
    "df = df.iloc[:98049]"
   ]
  },
  {
   "cell_type": "markdown",
   "id": "082e1628",
   "metadata": {},
   "source": [
    "I will now correct the column datatypes."
   ]
  },
  {
   "cell_type": "code",
   "execution_count": 8,
   "id": "c974ccb1",
   "metadata": {},
   "outputs": [],
   "source": [
    "for col in df.columns:\n",
    "    if df[col].dtype == 'object':\n",
    "        df[col] = df.loc[:,col].astype(np.float64)"
   ]
  },
  {
   "cell_type": "code",
   "execution_count": 9,
   "id": "6feacefd",
   "metadata": {},
   "outputs": [
    {
     "name": "stdout",
     "output_type": "stream",
     "text": [
      "<class 'pandas.core.frame.DataFrame'>\n",
      "RangeIndex: 98049 entries, 0 to 98048\n",
      "Data columns (total 29 columns):\n",
      " #   Column                    Non-Null Count  Dtype  \n",
      "---  ------                    --------------  -----  \n",
      " 0   class                     98049 non-null  int64  \n",
      " 1   lepton_pT                 98049 non-null  float64\n",
      " 2   lepton_eta                98049 non-null  float64\n",
      " 3   lepton_phi                98049 non-null  float64\n",
      " 4   missing_energy_magnitude  98049 non-null  float64\n",
      " 5   missing_energy_phi        98049 non-null  float64\n",
      " 6   jet1pt                    98049 non-null  float64\n",
      " 7   jet1eta                   98049 non-null  float64\n",
      " 8   jet1phi                   98049 non-null  float64\n",
      " 9   jet1b-tag                 98049 non-null  float64\n",
      " 10  jet2pt                    98049 non-null  float64\n",
      " 11  jet2eta                   98049 non-null  float64\n",
      " 12  jet2phi                   98049 non-null  float64\n",
      " 13  jet2b-tag                 98049 non-null  float64\n",
      " 14  jet3pt                    98049 non-null  float64\n",
      " 15  jet3eta                   98049 non-null  float64\n",
      " 16  jet3phi                   98049 non-null  float64\n",
      " 17  jet3b-tag                 98049 non-null  float64\n",
      " 18  jet4pt                    98049 non-null  float64\n",
      " 19  jet4eta                   98049 non-null  float64\n",
      " 20  jet4phi                   98049 non-null  float64\n",
      " 21  jet4b-tag                 98049 non-null  float64\n",
      " 22  m_jj                      98049 non-null  float64\n",
      " 23  m_jjj                     98049 non-null  float64\n",
      " 24  m_lv                      98049 non-null  float64\n",
      " 25  m_jlv                     98049 non-null  float64\n",
      " 26  m_bb                      98049 non-null  float64\n",
      " 27  m_wbb                     98049 non-null  float64\n",
      " 28  m_wwbb                    98049 non-null  float64\n",
      "dtypes: float64(28), int64(1)\n",
      "memory usage: 21.7 MB\n"
     ]
    }
   ],
   "source": [
    "df.info()"
   ]
  },
  {
   "cell_type": "code",
   "execution_count": 11,
   "id": "74463374",
   "metadata": {},
   "outputs": [],
   "source": [
    "#df.to_csv('higgs_cleaned.csv')"
   ]
  },
  {
   "cell_type": "markdown",
   "id": "c1874817",
   "metadata": {},
   "source": [
    "## Baselines"
   ]
  },
  {
   "cell_type": "markdown",
   "id": "edaf104e",
   "metadata": {},
   "source": [
    "Before fitting the models, let's first check the ratio of class labels to see if there is any imbalance exists."
   ]
  },
  {
   "cell_type": "code",
   "execution_count": 12,
   "id": "9d35252b",
   "metadata": {},
   "outputs": [
    {
     "data": {
      "text/plain": [
       "1    51826\n",
       "0    46223\n",
       "Name: class, dtype: int64"
      ]
     },
     "execution_count": 12,
     "metadata": {},
     "output_type": "execute_result"
    }
   ],
   "source": [
    "df['class'].value_counts()"
   ]
  },
  {
   "cell_type": "code",
   "execution_count": 13,
   "id": "f05b937f",
   "metadata": {},
   "outputs": [
    {
     "name": "stdout",
     "output_type": "stream",
     "text": [
      "Ratio of Class 0 to Class 1:\n",
      "89.19\n"
     ]
    }
   ],
   "source": [
    "print('Ratio of Class 0 to Class 1:')\n",
    "print(round(df['class'].value_counts()[0]/(df['class'].value_counts()[1])*100, 2))"
   ]
  },
  {
   "cell_type": "markdown",
   "id": "88b88694",
   "metadata": {},
   "source": [
    "The dataset is mostly balanced so the plain old accuracy score metric would not be a bad decision to use for measuring the performance. Let's continue with splitting the dataset into train and test sets."
   ]
  },
  {
   "cell_type": "code",
   "execution_count": 14,
   "id": "b120d588",
   "metadata": {},
   "outputs": [],
   "source": [
    "X, y = df.drop('class', axis=1), df['class']\n",
    "X_train, X_test, y_train, y_test = train_test_split(X, y, test_size=0.2, random_state=1864)"
   ]
  },
  {
   "cell_type": "markdown",
   "id": "0e07188e",
   "metadata": {},
   "source": [
    "Lastly, I will create a dataframe storing the values of accuracy, roc-auc score, processing time and f1-score of the models that will be fitted."
   ]
  },
  {
   "cell_type": "code",
   "execution_count": 15,
   "id": "b161b7fe",
   "metadata": {},
   "outputs": [],
   "source": [
    "baselines = pd.DataFrame(index = ['Training Time', 'Accuracy', 'Roc-Auc Score', 'F1 Score'])"
   ]
  },
  {
   "cell_type": "markdown",
   "id": "1444cfe6",
   "metadata": {},
   "source": [
    "### Decision Tree"
   ]
  },
  {
   "cell_type": "code",
   "execution_count": 16,
   "id": "3c5bb364",
   "metadata": {},
   "outputs": [],
   "source": [
    "clf = DecisionTreeClassifier(random_state=1864)\n",
    "\n",
    "start = time.time()\n",
    "clf.fit(X_train, y_train)\n",
    "end = time.time()\n",
    "dt_preds = clf.predict(X_test)"
   ]
  },
  {
   "cell_type": "code",
   "execution_count": 17,
   "id": "854399b0",
   "metadata": {},
   "outputs": [
    {
     "name": "stdout",
     "output_type": "stream",
     "text": [
      "Vanilla Decision Tree Scores:\n",
      "Accuracy: 0.6228964813870475\n",
      "ROC-AUC: 0.621665181318777\n",
      "************************************************************\n",
      "Detailed Report:\n",
      "              precision    recall  f1-score   support\n",
      "\n",
      "           0       0.61      0.60      0.60      9342\n",
      "           1       0.64      0.65      0.64     10268\n",
      "\n",
      "    accuracy                           0.62     19610\n",
      "   macro avg       0.62      0.62      0.62     19610\n",
      "weighted avg       0.62      0.62      0.62     19610\n",
      "\n"
     ]
    }
   ],
   "source": [
    "print('Vanilla Decision Tree Scores:')\n",
    "print('Accuracy:', accuracy_score(y_test, dt_preds))\n",
    "print('ROC-AUC:', roc_auc_score(y_test, clf.predict_proba(X_test)[:, 1]))\n",
    "print('*'*60)\n",
    "print('Detailed Report:')\n",
    "print(classification_report(y_test, dt_preds))"
   ]
  },
  {
   "cell_type": "code",
   "execution_count": 18,
   "id": "c71387e8",
   "metadata": {},
   "outputs": [],
   "source": [
    "baselines['DT'] = [end-start, accuracy_score(y_test, dt_preds), \n",
    "                   roc_auc_score(y_test, clf.predict_proba(X_test)[:, 1]), f1_score(y_test, dt_preds, average='weighted')]"
   ]
  },
  {
   "cell_type": "markdown",
   "id": "202a8d0c",
   "metadata": {},
   "source": [
    "### Random Forest"
   ]
  },
  {
   "cell_type": "code",
   "execution_count": 19,
   "id": "830f3cc3",
   "metadata": {},
   "outputs": [],
   "source": [
    "clf = RandomForestClassifier(random_state=1864)\n",
    "start = time.time()\n",
    "clf.fit(X_train, y_train)\n",
    "end = time.time()\n",
    "rf_preds = clf.predict(X_test)"
   ]
  },
  {
   "cell_type": "code",
   "execution_count": 20,
   "id": "00b5e775",
   "metadata": {},
   "outputs": [
    {
     "name": "stdout",
     "output_type": "stream",
     "text": [
      "Vanilla RF Scores:\n",
      "Accuracy: 0.7166241713411525\n",
      "ROC-AUC: 0.7920389835850293\n",
      "************************************************************\n",
      "Detailed Report:\n",
      "              precision    recall  f1-score   support\n",
      "\n",
      "           0       0.71      0.69      0.70      9342\n",
      "           1       0.72      0.74      0.73     10268\n",
      "\n",
      "    accuracy                           0.72     19610\n",
      "   macro avg       0.72      0.72      0.72     19610\n",
      "weighted avg       0.72      0.72      0.72     19610\n",
      "\n"
     ]
    }
   ],
   "source": [
    "print('Vanilla RF Scores:')\n",
    "print('Accuracy:', accuracy_score(y_test, rf_preds))\n",
    "print('ROC-AUC:', roc_auc_score(y_test, clf.predict_proba(X_test)[:, 1]))\n",
    "print('*'*60)\n",
    "print('Detailed Report:')\n",
    "print(classification_report(y_test, rf_preds))"
   ]
  },
  {
   "cell_type": "code",
   "execution_count": 21,
   "id": "1e8dec1f",
   "metadata": {},
   "outputs": [],
   "source": [
    "baselines['RF'] = [end-start, accuracy_score(y_test, rf_preds), \n",
    "                   roc_auc_score(y_test, clf.predict_proba(X_test)[:, 1]), f1_score(y_test, rf_preds, average='weighted')]"
   ]
  },
  {
   "cell_type": "markdown",
   "id": "3ceb4ed4",
   "metadata": {},
   "source": [
    "### Boosting Models"
   ]
  },
  {
   "cell_type": "markdown",
   "id": "ea54a165",
   "metadata": {},
   "source": [
    "#### LightGBM"
   ]
  },
  {
   "cell_type": "code",
   "execution_count": 22,
   "id": "e92578b3",
   "metadata": {},
   "outputs": [],
   "source": [
    "clf = lgb.LGBMClassifier(random_state = 1864)\n",
    "start = time.time()\n",
    "clf.fit(X_train, y_train)\n",
    "end = time.time()\n",
    "lgb_preds = clf.predict(X_test)"
   ]
  },
  {
   "cell_type": "code",
   "execution_count": 23,
   "id": "41e03456",
   "metadata": {},
   "outputs": [
    {
     "name": "stdout",
     "output_type": "stream",
     "text": [
      "Vanilla LightGBM Scores:\n",
      "Accuracy: 0.7233554309026007\n",
      "ROC-AUC: 0.8028859742376792\n",
      "************************************************************\n",
      "Detailed Report:\n",
      "              precision    recall  f1-score   support\n",
      "\n",
      "           0       0.72      0.69      0.71      9342\n",
      "           1       0.73      0.75      0.74     10268\n",
      "\n",
      "    accuracy                           0.72     19610\n",
      "   macro avg       0.72      0.72      0.72     19610\n",
      "weighted avg       0.72      0.72      0.72     19610\n",
      "\n"
     ]
    }
   ],
   "source": [
    "print('Vanilla LightGBM Scores:')\n",
    "print('Accuracy:', accuracy_score(y_test, lgb_preds))\n",
    "print('ROC-AUC:', roc_auc_score(y_test, clf.predict_proba(X_test)[:, 1]))\n",
    "print('*'*60)\n",
    "print('Detailed Report:')\n",
    "print(classification_report(y_test, lgb_preds))"
   ]
  },
  {
   "cell_type": "code",
   "execution_count": 24,
   "id": "591f9f65",
   "metadata": {},
   "outputs": [],
   "source": [
    "baselines['LGBM'] = [end-start, accuracy_score(y_test, lgb_preds), \n",
    "                   roc_auc_score(y_test, clf.predict_proba(X_test)[:, 1]), f1_score(y_test, lgb_preds, average='weighted')]"
   ]
  },
  {
   "cell_type": "markdown",
   "id": "b88aca9e",
   "metadata": {},
   "source": [
    "#### XGBoost"
   ]
  },
  {
   "cell_type": "code",
   "execution_count": 25,
   "id": "accd6962",
   "metadata": {},
   "outputs": [
    {
     "name": "stderr",
     "output_type": "stream",
     "text": [
      "C:\\Users\\canberk\\AppData\\Local\\Packages\\PythonSoftwareFoundation.Python.3.8_qbz5n2kfra8p0\\LocalCache\\local-packages\\Python38\\site-packages\\xgboost\\sklearn.py:1146: UserWarning: The use of label encoder in XGBClassifier is deprecated and will be removed in a future release. To remove this warning, do the following: 1) Pass option use_label_encoder=False when constructing XGBClassifier object; and 2) Encode your labels (y) as integers starting with 0, i.e. 0, 1, 2, ..., [num_class - 1].\n",
      "  warnings.warn(label_encoder_deprecation_msg, UserWarning)\n"
     ]
    },
    {
     "name": "stdout",
     "output_type": "stream",
     "text": [
      "[19:38:51] WARNING: C:/Users/Administrator/workspace/xgboost-win64_release_1.4.0/src/learner.cc:1095: Starting in XGBoost 1.3.0, the default evaluation metric used with the objective 'binary:logistic' was changed from 'error' to 'logloss'. Explicitly set eval_metric if you'd like to restore the old behavior.\n"
     ]
    }
   ],
   "source": [
    "clf = XGBClassifier(random_state = 1864)\n",
    "start = time.time()\n",
    "clf.fit(X_train, y_train)\n",
    "end = time.time()\n",
    "xgb_preds = clf.predict(X_test)"
   ]
  },
  {
   "cell_type": "code",
   "execution_count": 26,
   "id": "15c980d8",
   "metadata": {},
   "outputs": [
    {
     "name": "stdout",
     "output_type": "stream",
     "text": [
      "Vanilla XGB Scores:\n",
      "Accuracy: 0.7187149413564508\n",
      "ROC-AUC: 0.7968862029195385\n",
      "************************************************************\n",
      "Detailed Report:\n",
      "              precision    recall  f1-score   support\n",
      "\n",
      "           0       0.71      0.68      0.70      9342\n",
      "           1       0.72      0.75      0.74     10268\n",
      "\n",
      "    accuracy                           0.72     19610\n",
      "   macro avg       0.72      0.72      0.72     19610\n",
      "weighted avg       0.72      0.72      0.72     19610\n",
      "\n"
     ]
    }
   ],
   "source": [
    "print('Vanilla XGB Scores:')\n",
    "print('Accuracy:', accuracy_score(y_test, xgb_preds))\n",
    "print('ROC-AUC:', roc_auc_score(y_test, clf.predict_proba(X_test)[:, 1]))\n",
    "print('*'*60)\n",
    "print('Detailed Report:')\n",
    "print(classification_report(y_test, xgb_preds))"
   ]
  },
  {
   "cell_type": "code",
   "execution_count": 27,
   "id": "0b8eda81",
   "metadata": {},
   "outputs": [],
   "source": [
    "baselines['XGB'] = [end-start, accuracy_score(y_test, xgb_preds), \n",
    "                   roc_auc_score(y_test, clf.predict_proba(X_test)[:, 1]), f1_score(y_test, xgb_preds, average='weighted')]"
   ]
  },
  {
   "cell_type": "markdown",
   "id": "370d3f90",
   "metadata": {},
   "source": [
    "#### Catboost"
   ]
  },
  {
   "cell_type": "code",
   "execution_count": 28,
   "id": "52e046a8",
   "metadata": {},
   "outputs": [],
   "source": [
    "clf = cb.CatBoostClassifier(random_state=1864)\n",
    "start = time.time()\n",
    "clf.fit(X_train, y_train, verbose= False)\n",
    "end = time.time()\n",
    "cb_preds = clf.predict(X_test)"
   ]
  },
  {
   "cell_type": "code",
   "execution_count": 29,
   "id": "79d57496",
   "metadata": {},
   "outputs": [
    {
     "name": "stdout",
     "output_type": "stream",
     "text": [
      "Vanilla Catboost Scores:\n",
      "Accuracy: 0.7282508924018358\n",
      "ROC-AUC: 0.8071100313357531\n",
      "************************************************************\n",
      "Detailed Report:\n",
      "              precision    recall  f1-score   support\n",
      "\n",
      "           0       0.72      0.70      0.71      9342\n",
      "           1       0.73      0.76      0.74     10268\n",
      "\n",
      "    accuracy                           0.73     19610\n",
      "   macro avg       0.73      0.73      0.73     19610\n",
      "weighted avg       0.73      0.73      0.73     19610\n",
      "\n"
     ]
    }
   ],
   "source": [
    "print('Vanilla Catboost Scores:')\n",
    "print('Accuracy:', accuracy_score(y_test, cb_preds))\n",
    "print('ROC-AUC:', roc_auc_score(y_test, clf.predict_proba(X_test)[:, 1]))\n",
    "print('*'*60)\n",
    "print('Detailed Report:')\n",
    "print(classification_report(y_test, cb_preds))"
   ]
  },
  {
   "cell_type": "code",
   "execution_count": 30,
   "id": "3934e484",
   "metadata": {},
   "outputs": [],
   "source": [
    "baselines['Catboost'] = [end-start, accuracy_score(y_test, cb_preds), \n",
    "                   roc_auc_score(y_test, clf.predict_proba(X_test)[:, 1]), f1_score(y_test, cb_preds, average='weighted')]"
   ]
  },
  {
   "cell_type": "markdown",
   "id": "21fdf474",
   "metadata": {},
   "source": [
    "#### GBM"
   ]
  },
  {
   "cell_type": "code",
   "execution_count": 31,
   "id": "625fb98c",
   "metadata": {},
   "outputs": [],
   "source": [
    "clf = GradientBoostingClassifier(random_state=1864)\n",
    "start = time.time()\n",
    "clf.fit(X_train, y_train)\n",
    "end = time.time()\n",
    "gbm_preds = clf.predict(X_test)"
   ]
  },
  {
   "cell_type": "code",
   "execution_count": 32,
   "id": "063e99a8",
   "metadata": {},
   "outputs": [
    {
     "name": "stdout",
     "output_type": "stream",
     "text": [
      "Vanilla GBM Scores:\n",
      "Accuracy: 0.7086690464048955\n",
      "ROC-AUC: 0.7868082092283889\n",
      "************************************************************\n",
      "Detailed Report:\n",
      "              precision    recall  f1-score   support\n",
      "\n",
      "           0       0.70      0.67      0.69      9342\n",
      "           1       0.71      0.74      0.73     10268\n",
      "\n",
      "    accuracy                           0.71     19610\n",
      "   macro avg       0.71      0.71      0.71     19610\n",
      "weighted avg       0.71      0.71      0.71     19610\n",
      "\n"
     ]
    }
   ],
   "source": [
    "print('Vanilla GBM Scores:')\n",
    "print('Accuracy:', accuracy_score(y_test, gbm_preds))\n",
    "print('ROC-AUC:', roc_auc_score(y_test, clf.predict_proba(X_test)[:, 1]))\n",
    "print('*'*60)\n",
    "print('Detailed Report:')\n",
    "print(classification_report(y_test, gbm_preds))"
   ]
  },
  {
   "cell_type": "code",
   "execution_count": 33,
   "id": "def09706",
   "metadata": {},
   "outputs": [],
   "source": [
    "baselines['GBM'] = [end-start, accuracy_score(y_test, gbm_preds), \n",
    "                   roc_auc_score(y_test, clf.predict_proba(X_test)[:, 1]), f1_score(y_test, gbm_preds, average='weighted')]"
   ]
  },
  {
   "cell_type": "markdown",
   "id": "8c868900",
   "metadata": {},
   "source": [
    "#### ExtraTrees"
   ]
  },
  {
   "cell_type": "code",
   "execution_count": 34,
   "id": "c3b354a2",
   "metadata": {},
   "outputs": [],
   "source": [
    "clf = ExtraTreesClassifier(random_state=1864)\n",
    "start = time.time()\n",
    "clf.fit(X_train, y_train)\n",
    "end = time.time()\n",
    "xtratrees_preds = clf.predict(X_test)"
   ]
  },
  {
   "cell_type": "code",
   "execution_count": 35,
   "id": "697a18c8",
   "metadata": {},
   "outputs": [
    {
     "name": "stdout",
     "output_type": "stream",
     "text": [
      "Vanilla ExtraTreesClf Scores:\n",
      "Accuracy: 0.7024477307496175\n",
      "ROC-AUC: 0.7742860322171207\n",
      "************************************************************\n",
      "Detailed Report:\n",
      "              precision    recall  f1-score   support\n",
      "\n",
      "           0       0.71      0.64      0.67      9342\n",
      "           1       0.70      0.75      0.73     10268\n",
      "\n",
      "    accuracy                           0.70     19610\n",
      "   macro avg       0.70      0.70      0.70     19610\n",
      "weighted avg       0.70      0.70      0.70     19610\n",
      "\n"
     ]
    }
   ],
   "source": [
    "print('Vanilla ExtraTreesClf Scores:')\n",
    "print('Accuracy:', accuracy_score(y_test, xtratrees_preds))\n",
    "print('ROC-AUC:', roc_auc_score(y_test, clf.predict_proba(X_test)[:, 1]))\n",
    "print('*'*60)\n",
    "print('Detailed Report:')\n",
    "print(classification_report(y_test, xtratrees_preds))"
   ]
  },
  {
   "cell_type": "code",
   "execution_count": 36,
   "id": "baf7ed27",
   "metadata": {},
   "outputs": [],
   "source": [
    "baselines['ExtraTrees'] = [end-start, accuracy_score(y_test, xtratrees_preds), \n",
    "                   roc_auc_score(y_test, clf.predict_proba(X_test)[:, 1]), f1_score(y_test, xtratrees_preds, average='weighted')]"
   ]
  },
  {
   "cell_type": "markdown",
   "id": "7cedfabb",
   "metadata": {},
   "source": [
    "### Logistic Regression"
   ]
  },
  {
   "cell_type": "code",
   "execution_count": 37,
   "id": "d6295b08",
   "metadata": {},
   "outputs": [],
   "source": [
    "clf = LogisticRegression(random_state=1864)\n",
    "start = time.time()\n",
    "clf.fit(X_train, y_train)\n",
    "end = time.time()\n",
    "logreg_preds = clf.predict(X_test)"
   ]
  },
  {
   "cell_type": "code",
   "execution_count": 38,
   "id": "f2c2e9d9",
   "metadata": {},
   "outputs": [
    {
     "name": "stdout",
     "output_type": "stream",
     "text": [
      "Vanilla Logistic Regression Scores:\n",
      "Accuracy: 0.6357980622131566\n",
      "ROC-AUC: 0.6797003337737668\n",
      "************************************************************\n",
      "Detailed Report:\n",
      "              precision    recall  f1-score   support\n",
      "\n",
      "           0       0.65      0.51      0.57      9342\n",
      "           1       0.63      0.75      0.68     10268\n",
      "\n",
      "    accuracy                           0.64     19610\n",
      "   macro avg       0.64      0.63      0.63     19610\n",
      "weighted avg       0.64      0.64      0.63     19610\n",
      "\n"
     ]
    }
   ],
   "source": [
    "print('Vanilla Logistic Regression Scores:')\n",
    "print('Accuracy:', accuracy_score(y_test, logreg_preds))\n",
    "print('ROC-AUC:', roc_auc_score(y_test, clf.predict_proba(X_test)[:, 1]))\n",
    "print('*'*60)\n",
    "print('Detailed Report:')\n",
    "print(classification_report(y_test, logreg_preds))"
   ]
  },
  {
   "cell_type": "code",
   "execution_count": 39,
   "id": "15efa01a",
   "metadata": {},
   "outputs": [],
   "source": [
    "baselines['LogisticRegression'] = [end-start, accuracy_score(y_test, logreg_preds), \n",
    "                   roc_auc_score(y_test, clf.predict_proba(X_test)[:, 1]), f1_score(y_test, logreg_preds, average='weighted')]"
   ]
  },
  {
   "cell_type": "markdown",
   "id": "13a4b674",
   "metadata": {},
   "source": [
    "## Baseline Model Performance Summary"
   ]
  },
  {
   "cell_type": "markdown",
   "id": "bb410a90",
   "metadata": {},
   "source": [
    "We finished fitting the models and we can now check the metrics. Let's first get an overview of the results and see if there is a big gap between the weighted F1 scores and the accuracies. If it's small, we don't need to worry about f1 scores from now on."
   ]
  },
  {
   "cell_type": "code",
   "execution_count": 40,
   "id": "0ccb3222",
   "metadata": {
    "scrolled": true
   },
   "outputs": [
    {
     "data": {
      "text/html": [
       "<div>\n",
       "<style scoped>\n",
       "    .dataframe tbody tr th:only-of-type {\n",
       "        vertical-align: middle;\n",
       "    }\n",
       "\n",
       "    .dataframe tbody tr th {\n",
       "        vertical-align: top;\n",
       "    }\n",
       "\n",
       "    .dataframe thead th {\n",
       "        text-align: right;\n",
       "    }\n",
       "</style>\n",
       "<table border=\"1\" class=\"dataframe\">\n",
       "  <thead>\n",
       "    <tr style=\"text-align: right;\">\n",
       "      <th></th>\n",
       "      <th>Training Time</th>\n",
       "      <th>Accuracy</th>\n",
       "      <th>Roc-Auc Score</th>\n",
       "      <th>F1 Score</th>\n",
       "    </tr>\n",
       "  </thead>\n",
       "  <tbody>\n",
       "    <tr>\n",
       "      <th>DT</th>\n",
       "      <td>6.164743</td>\n",
       "      <td>0.622896</td>\n",
       "      <td>0.621665</td>\n",
       "      <td>0.622724</td>\n",
       "    </tr>\n",
       "    <tr>\n",
       "      <th>RF</th>\n",
       "      <td>67.737170</td>\n",
       "      <td>0.716624</td>\n",
       "      <td>0.792039</td>\n",
       "      <td>0.716455</td>\n",
       "    </tr>\n",
       "    <tr>\n",
       "      <th>LGBM</th>\n",
       "      <td>2.279974</td>\n",
       "      <td>0.723355</td>\n",
       "      <td>0.802886</td>\n",
       "      <td>0.723100</td>\n",
       "    </tr>\n",
       "    <tr>\n",
       "      <th>XGB</th>\n",
       "      <td>25.759258</td>\n",
       "      <td>0.718715</td>\n",
       "      <td>0.796886</td>\n",
       "      <td>0.718343</td>\n",
       "    </tr>\n",
       "    <tr>\n",
       "      <th>Catboost</th>\n",
       "      <td>40.278692</td>\n",
       "      <td>0.728251</td>\n",
       "      <td>0.807110</td>\n",
       "      <td>0.727937</td>\n",
       "    </tr>\n",
       "    <tr>\n",
       "      <th>GBM</th>\n",
       "      <td>85.060044</td>\n",
       "      <td>0.708669</td>\n",
       "      <td>0.786808</td>\n",
       "      <td>0.708243</td>\n",
       "    </tr>\n",
       "    <tr>\n",
       "      <th>ExtraTrees</th>\n",
       "      <td>21.779579</td>\n",
       "      <td>0.702448</td>\n",
       "      <td>0.774286</td>\n",
       "      <td>0.701365</td>\n",
       "    </tr>\n",
       "    <tr>\n",
       "      <th>LogisticRegression</th>\n",
       "      <td>1.511083</td>\n",
       "      <td>0.635798</td>\n",
       "      <td>0.679700</td>\n",
       "      <td>0.630379</td>\n",
       "    </tr>\n",
       "  </tbody>\n",
       "</table>\n",
       "</div>"
      ],
      "text/plain": [
       "                    Training Time  Accuracy  Roc-Auc Score  F1 Score\n",
       "DT                       6.164743  0.622896       0.621665  0.622724\n",
       "RF                      67.737170  0.716624       0.792039  0.716455\n",
       "LGBM                     2.279974  0.723355       0.802886  0.723100\n",
       "XGB                     25.759258  0.718715       0.796886  0.718343\n",
       "Catboost                40.278692  0.728251       0.807110  0.727937\n",
       "GBM                     85.060044  0.708669       0.786808  0.708243\n",
       "ExtraTrees              21.779579  0.702448       0.774286  0.701365\n",
       "LogisticRegression       1.511083  0.635798       0.679700  0.630379"
      ]
     },
     "execution_count": 40,
     "metadata": {},
     "output_type": "execute_result"
    }
   ],
   "source": [
    "baselines = baselines.T\n",
    "baselines"
   ]
  },
  {
   "cell_type": "markdown",
   "id": "037f34ba",
   "metadata": {},
   "source": [
    "As expected, the difference between accuracies and f1 scores are nearly non-existent because of the fact that our dataset being balanced.\n",
    "\n",
    "Let's look at the top 3 models in terms of accuracy, roc-auc score and F1 score now."
   ]
  },
  {
   "cell_type": "code",
   "execution_count": 41,
   "id": "0635cb4f",
   "metadata": {},
   "outputs": [
    {
     "name": "stdout",
     "output_type": "stream",
     "text": [
      "Accuracy Results\n"
     ]
    },
    {
     "data": {
      "text/html": [
       "<div>\n",
       "<style scoped>\n",
       "    .dataframe tbody tr th:only-of-type {\n",
       "        vertical-align: middle;\n",
       "    }\n",
       "\n",
       "    .dataframe tbody tr th {\n",
       "        vertical-align: top;\n",
       "    }\n",
       "\n",
       "    .dataframe thead th {\n",
       "        text-align: right;\n",
       "    }\n",
       "</style>\n",
       "<table border=\"1\" class=\"dataframe\">\n",
       "  <thead>\n",
       "    <tr style=\"text-align: right;\">\n",
       "      <th></th>\n",
       "      <th>Training Time</th>\n",
       "      <th>Accuracy</th>\n",
       "      <th>Roc-Auc Score</th>\n",
       "      <th>F1 Score</th>\n",
       "    </tr>\n",
       "  </thead>\n",
       "  <tbody>\n",
       "    <tr>\n",
       "      <th>Catboost</th>\n",
       "      <td>40.278692</td>\n",
       "      <td>0.728251</td>\n",
       "      <td>0.807110</td>\n",
       "      <td>0.727937</td>\n",
       "    </tr>\n",
       "    <tr>\n",
       "      <th>LGBM</th>\n",
       "      <td>2.279974</td>\n",
       "      <td>0.723355</td>\n",
       "      <td>0.802886</td>\n",
       "      <td>0.723100</td>\n",
       "    </tr>\n",
       "    <tr>\n",
       "      <th>XGB</th>\n",
       "      <td>25.759258</td>\n",
       "      <td>0.718715</td>\n",
       "      <td>0.796886</td>\n",
       "      <td>0.718343</td>\n",
       "    </tr>\n",
       "  </tbody>\n",
       "</table>\n",
       "</div>"
      ],
      "text/plain": [
       "          Training Time  Accuracy  Roc-Auc Score  F1 Score\n",
       "Catboost      40.278692  0.728251       0.807110  0.727937\n",
       "LGBM           2.279974  0.723355       0.802886  0.723100\n",
       "XGB           25.759258  0.718715       0.796886  0.718343"
      ]
     },
     "metadata": {},
     "output_type": "display_data"
    },
    {
     "name": "stdout",
     "output_type": "stream",
     "text": [
      "ROC-AUC score Results\n"
     ]
    },
    {
     "data": {
      "text/html": [
       "<div>\n",
       "<style scoped>\n",
       "    .dataframe tbody tr th:only-of-type {\n",
       "        vertical-align: middle;\n",
       "    }\n",
       "\n",
       "    .dataframe tbody tr th {\n",
       "        vertical-align: top;\n",
       "    }\n",
       "\n",
       "    .dataframe thead th {\n",
       "        text-align: right;\n",
       "    }\n",
       "</style>\n",
       "<table border=\"1\" class=\"dataframe\">\n",
       "  <thead>\n",
       "    <tr style=\"text-align: right;\">\n",
       "      <th></th>\n",
       "      <th>Training Time</th>\n",
       "      <th>Accuracy</th>\n",
       "      <th>Roc-Auc Score</th>\n",
       "      <th>F1 Score</th>\n",
       "    </tr>\n",
       "  </thead>\n",
       "  <tbody>\n",
       "    <tr>\n",
       "      <th>Catboost</th>\n",
       "      <td>40.278692</td>\n",
       "      <td>0.728251</td>\n",
       "      <td>0.807110</td>\n",
       "      <td>0.727937</td>\n",
       "    </tr>\n",
       "    <tr>\n",
       "      <th>LGBM</th>\n",
       "      <td>2.279974</td>\n",
       "      <td>0.723355</td>\n",
       "      <td>0.802886</td>\n",
       "      <td>0.723100</td>\n",
       "    </tr>\n",
       "    <tr>\n",
       "      <th>XGB</th>\n",
       "      <td>25.759258</td>\n",
       "      <td>0.718715</td>\n",
       "      <td>0.796886</td>\n",
       "      <td>0.718343</td>\n",
       "    </tr>\n",
       "  </tbody>\n",
       "</table>\n",
       "</div>"
      ],
      "text/plain": [
       "          Training Time  Accuracy  Roc-Auc Score  F1 Score\n",
       "Catboost      40.278692  0.728251       0.807110  0.727937\n",
       "LGBM           2.279974  0.723355       0.802886  0.723100\n",
       "XGB           25.759258  0.718715       0.796886  0.718343"
      ]
     },
     "metadata": {},
     "output_type": "display_data"
    },
    {
     "name": "stdout",
     "output_type": "stream",
     "text": [
      "F1 score Results\n"
     ]
    },
    {
     "data": {
      "text/html": [
       "<div>\n",
       "<style scoped>\n",
       "    .dataframe tbody tr th:only-of-type {\n",
       "        vertical-align: middle;\n",
       "    }\n",
       "\n",
       "    .dataframe tbody tr th {\n",
       "        vertical-align: top;\n",
       "    }\n",
       "\n",
       "    .dataframe thead th {\n",
       "        text-align: right;\n",
       "    }\n",
       "</style>\n",
       "<table border=\"1\" class=\"dataframe\">\n",
       "  <thead>\n",
       "    <tr style=\"text-align: right;\">\n",
       "      <th></th>\n",
       "      <th>Training Time</th>\n",
       "      <th>Accuracy</th>\n",
       "      <th>Roc-Auc Score</th>\n",
       "      <th>F1 Score</th>\n",
       "    </tr>\n",
       "  </thead>\n",
       "  <tbody>\n",
       "    <tr>\n",
       "      <th>Catboost</th>\n",
       "      <td>40.278692</td>\n",
       "      <td>0.728251</td>\n",
       "      <td>0.807110</td>\n",
       "      <td>0.727937</td>\n",
       "    </tr>\n",
       "    <tr>\n",
       "      <th>LGBM</th>\n",
       "      <td>2.279974</td>\n",
       "      <td>0.723355</td>\n",
       "      <td>0.802886</td>\n",
       "      <td>0.723100</td>\n",
       "    </tr>\n",
       "    <tr>\n",
       "      <th>XGB</th>\n",
       "      <td>25.759258</td>\n",
       "      <td>0.718715</td>\n",
       "      <td>0.796886</td>\n",
       "      <td>0.718343</td>\n",
       "    </tr>\n",
       "  </tbody>\n",
       "</table>\n",
       "</div>"
      ],
      "text/plain": [
       "          Training Time  Accuracy  Roc-Auc Score  F1 Score\n",
       "Catboost      40.278692  0.728251       0.807110  0.727937\n",
       "LGBM           2.279974  0.723355       0.802886  0.723100\n",
       "XGB           25.759258  0.718715       0.796886  0.718343"
      ]
     },
     "metadata": {},
     "output_type": "display_data"
    }
   ],
   "source": [
    "print('Accuracy Results')\n",
    "display(baselines.sort_values(by='Accuracy', ascending=False).head(3))\n",
    "print('ROC-AUC score Results')\n",
    "display(baselines.sort_values(by='Roc-Auc Score', ascending=False).head(3))\n",
    "print('F1 score Results')\n",
    "display(baselines.sort_values(by='F1 Score', ascending=False).head(3))"
   ]
  },
  {
   "cell_type": "markdown",
   "id": "e6d4044d",
   "metadata": {},
   "source": [
    "Let's have a look at the training time spent now. For this I will enlarge the leaderboard and look at it as a whole, since the best candidate for tuning, the default catboost model, took too much time to train."
   ]
  },
  {
   "cell_type": "code",
   "execution_count": 42,
   "id": "f1d8f735",
   "metadata": {},
   "outputs": [
    {
     "data": {
      "text/html": [
       "<div>\n",
       "<style scoped>\n",
       "    .dataframe tbody tr th:only-of-type {\n",
       "        vertical-align: middle;\n",
       "    }\n",
       "\n",
       "    .dataframe tbody tr th {\n",
       "        vertical-align: top;\n",
       "    }\n",
       "\n",
       "    .dataframe thead th {\n",
       "        text-align: right;\n",
       "    }\n",
       "</style>\n",
       "<table border=\"1\" class=\"dataframe\">\n",
       "  <thead>\n",
       "    <tr style=\"text-align: right;\">\n",
       "      <th></th>\n",
       "      <th>Training Time</th>\n",
       "      <th>Accuracy</th>\n",
       "      <th>Roc-Auc Score</th>\n",
       "      <th>F1 Score</th>\n",
       "    </tr>\n",
       "  </thead>\n",
       "  <tbody>\n",
       "    <tr>\n",
       "      <th>LogisticRegression</th>\n",
       "      <td>1.511083</td>\n",
       "      <td>0.635798</td>\n",
       "      <td>0.679700</td>\n",
       "      <td>0.630379</td>\n",
       "    </tr>\n",
       "    <tr>\n",
       "      <th>LGBM</th>\n",
       "      <td>2.279974</td>\n",
       "      <td>0.723355</td>\n",
       "      <td>0.802886</td>\n",
       "      <td>0.723100</td>\n",
       "    </tr>\n",
       "    <tr>\n",
       "      <th>DT</th>\n",
       "      <td>6.164743</td>\n",
       "      <td>0.622896</td>\n",
       "      <td>0.621665</td>\n",
       "      <td>0.622724</td>\n",
       "    </tr>\n",
       "    <tr>\n",
       "      <th>ExtraTrees</th>\n",
       "      <td>21.779579</td>\n",
       "      <td>0.702448</td>\n",
       "      <td>0.774286</td>\n",
       "      <td>0.701365</td>\n",
       "    </tr>\n",
       "    <tr>\n",
       "      <th>XGB</th>\n",
       "      <td>25.759258</td>\n",
       "      <td>0.718715</td>\n",
       "      <td>0.796886</td>\n",
       "      <td>0.718343</td>\n",
       "    </tr>\n",
       "    <tr>\n",
       "      <th>Catboost</th>\n",
       "      <td>40.278692</td>\n",
       "      <td>0.728251</td>\n",
       "      <td>0.807110</td>\n",
       "      <td>0.727937</td>\n",
       "    </tr>\n",
       "    <tr>\n",
       "      <th>RF</th>\n",
       "      <td>67.737170</td>\n",
       "      <td>0.716624</td>\n",
       "      <td>0.792039</td>\n",
       "      <td>0.716455</td>\n",
       "    </tr>\n",
       "    <tr>\n",
       "      <th>GBM</th>\n",
       "      <td>85.060044</td>\n",
       "      <td>0.708669</td>\n",
       "      <td>0.786808</td>\n",
       "      <td>0.708243</td>\n",
       "    </tr>\n",
       "  </tbody>\n",
       "</table>\n",
       "</div>"
      ],
      "text/plain": [
       "                    Training Time  Accuracy  Roc-Auc Score  F1 Score\n",
       "LogisticRegression       1.511083  0.635798       0.679700  0.630379\n",
       "LGBM                     2.279974  0.723355       0.802886  0.723100\n",
       "DT                       6.164743  0.622896       0.621665  0.622724\n",
       "ExtraTrees              21.779579  0.702448       0.774286  0.701365\n",
       "XGB                     25.759258  0.718715       0.796886  0.718343\n",
       "Catboost                40.278692  0.728251       0.807110  0.727937\n",
       "RF                      67.737170  0.716624       0.792039  0.716455\n",
       "GBM                     85.060044  0.708669       0.786808  0.708243"
      ]
     },
     "execution_count": 42,
     "metadata": {},
     "output_type": "execute_result"
    }
   ],
   "source": [
    "baselines.sort_values(by='Training Time')"
   ]
  },
  {
   "cell_type": "markdown",
   "id": "e4320282",
   "metadata": {},
   "source": [
    "So Catboost was the best in terms of getting the correct classification results but LGBM followed it quite closely, with XGBoost Classifier settling in the third position. In terms of training time, LGBM was much faster than the two, it only took 1.7 seconds for it to complete the training.\n",
    "\n",
    "At this stage, we can continue improving our top 3 baseline models by tuning their hyperparameters and generating new features. But for the sake of simplicity, I will resort to using catboost for getting better results.  "
   ]
  }
 ],
 "metadata": {
  "kernelspec": {
   "display_name": "Python 3",
   "language": "python",
   "name": "python3"
  },
  "language_info": {
   "codemirror_mode": {
    "name": "ipython",
    "version": 3
   },
   "file_extension": ".py",
   "mimetype": "text/x-python",
   "name": "python",
   "nbconvert_exporter": "python",
   "pygments_lexer": "ipython3",
   "version": "3.8.10"
  }
 },
 "nbformat": 4,
 "nbformat_minor": 5
}
