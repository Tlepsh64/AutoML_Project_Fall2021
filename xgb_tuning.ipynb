{
 "cells": [
  {
   "cell_type": "code",
   "execution_count": 6,
   "id": "accessory-collect",
   "metadata": {},
   "outputs": [],
   "source": [
    "import pandas as pd\n",
    "import numpy as np\n",
    "import seaborn as sns\n",
    "import matplotlib.pyplot as plt\n",
    "\n",
    "# Models to use\n",
    "#import lightgbm as lgb\n",
    "import catboost as cb\n",
    "\n",
    "# Importing the metrics\n",
    "from sklearn.model_selection import train_test_split\n",
    "from sklearn.metrics import accuracy_score\n",
    "from sklearn.metrics import roc_auc_score\n",
    "from sklearn.metrics import classification_report\n",
    "\n",
    "# For measuring the training time taken during the fit process\n",
    "from sklearn.model_selection import cross_val_score\n",
    "import time\n",
    "\n",
    "from hyperopt import hp, pyll, fmin, tpe, STATUS_OK, STATUS_FAIL, Trials, space_eval"
   ]
  },
  {
   "cell_type": "code",
   "execution_count": 3,
   "id": "fossil-chicken",
   "metadata": {},
   "outputs": [],
   "source": [
    "import sys\n",
    "sys.path.append('/gpfs/space/home/rabiichu/.conda/envs/avalanche-env/lib/python3.8/site-packages/xgboost/python-package')"
   ]
  },
  {
   "cell_type": "code",
   "execution_count": 3,
   "id": "continuous-torture",
   "metadata": {},
   "outputs": [],
   "source": [
    "from xgboost import XGBClassifier"
   ]
  },
  {
   "cell_type": "code",
   "execution_count": 4,
   "id": "intensive-pleasure",
   "metadata": {},
   "outputs": [
    {
     "data": {
      "text/html": [
       "<div>\n",
       "<style scoped>\n",
       "    .dataframe tbody tr th:only-of-type {\n",
       "        vertical-align: middle;\n",
       "    }\n",
       "\n",
       "    .dataframe tbody tr th {\n",
       "        vertical-align: top;\n",
       "    }\n",
       "\n",
       "    .dataframe thead th {\n",
       "        text-align: right;\n",
       "    }\n",
       "</style>\n",
       "<table border=\"1\" class=\"dataframe\">\n",
       "  <thead>\n",
       "    <tr style=\"text-align: right;\">\n",
       "      <th></th>\n",
       "      <th>class</th>\n",
       "      <th>lepton_pT</th>\n",
       "      <th>lepton_eta</th>\n",
       "      <th>lepton_phi</th>\n",
       "      <th>missing_energy_magnitude</th>\n",
       "      <th>missing_energy_phi</th>\n",
       "      <th>jet1pt</th>\n",
       "      <th>jet1eta</th>\n",
       "      <th>jet1phi</th>\n",
       "      <th>jet1b-tag</th>\n",
       "      <th>...</th>\n",
       "      <th>jet4eta</th>\n",
       "      <th>jet4phi</th>\n",
       "      <th>jet4b-tag</th>\n",
       "      <th>m_jj</th>\n",
       "      <th>m_jjj</th>\n",
       "      <th>m_lv</th>\n",
       "      <th>m_jlv</th>\n",
       "      <th>m_bb</th>\n",
       "      <th>m_wbb</th>\n",
       "      <th>m_wwbb</th>\n",
       "    </tr>\n",
       "  </thead>\n",
       "  <tbody>\n",
       "    <tr>\n",
       "      <th>0</th>\n",
       "      <td>1</td>\n",
       "      <td>0.907542</td>\n",
       "      <td>0.329147</td>\n",
       "      <td>0.359412</td>\n",
       "      <td>1.497970</td>\n",
       "      <td>-0.313010</td>\n",
       "      <td>1.095531</td>\n",
       "      <td>-0.557525</td>\n",
       "      <td>-1.588230</td>\n",
       "      <td>2.173076</td>\n",
       "      <td>...</td>\n",
       "      <td>-1.138930</td>\n",
       "      <td>-0.000819</td>\n",
       "      <td>0.000000</td>\n",
       "      <td>0.302220</td>\n",
       "      <td>0.833048</td>\n",
       "      <td>0.985700</td>\n",
       "      <td>0.978098</td>\n",
       "      <td>0.779732</td>\n",
       "      <td>0.992356</td>\n",
       "      <td>0.798343</td>\n",
       "    </tr>\n",
       "    <tr>\n",
       "      <th>1</th>\n",
       "      <td>1</td>\n",
       "      <td>0.798835</td>\n",
       "      <td>1.470639</td>\n",
       "      <td>-1.635975</td>\n",
       "      <td>0.453773</td>\n",
       "      <td>0.425629</td>\n",
       "      <td>1.104875</td>\n",
       "      <td>1.282322</td>\n",
       "      <td>1.381664</td>\n",
       "      <td>0.000000</td>\n",
       "      <td>...</td>\n",
       "      <td>1.128848</td>\n",
       "      <td>0.900461</td>\n",
       "      <td>0.000000</td>\n",
       "      <td>0.909753</td>\n",
       "      <td>1.108330</td>\n",
       "      <td>0.985692</td>\n",
       "      <td>0.951331</td>\n",
       "      <td>0.803252</td>\n",
       "      <td>0.865924</td>\n",
       "      <td>0.780118</td>\n",
       "    </tr>\n",
       "    <tr>\n",
       "      <th>2</th>\n",
       "      <td>0</td>\n",
       "      <td>1.344385</td>\n",
       "      <td>-0.876626</td>\n",
       "      <td>0.935913</td>\n",
       "      <td>1.992050</td>\n",
       "      <td>0.882454</td>\n",
       "      <td>1.786066</td>\n",
       "      <td>-1.646778</td>\n",
       "      <td>-0.942383</td>\n",
       "      <td>0.000000</td>\n",
       "      <td>...</td>\n",
       "      <td>-0.678379</td>\n",
       "      <td>-1.360356</td>\n",
       "      <td>0.000000</td>\n",
       "      <td>0.946652</td>\n",
       "      <td>1.028704</td>\n",
       "      <td>0.998656</td>\n",
       "      <td>0.728281</td>\n",
       "      <td>0.869200</td>\n",
       "      <td>1.026736</td>\n",
       "      <td>0.957904</td>\n",
       "    </tr>\n",
       "    <tr>\n",
       "      <th>3</th>\n",
       "      <td>1</td>\n",
       "      <td>1.105009</td>\n",
       "      <td>0.321356</td>\n",
       "      <td>1.522401</td>\n",
       "      <td>0.882808</td>\n",
       "      <td>-1.205349</td>\n",
       "      <td>0.681466</td>\n",
       "      <td>-1.070464</td>\n",
       "      <td>-0.921871</td>\n",
       "      <td>0.000000</td>\n",
       "      <td>...</td>\n",
       "      <td>-0.373566</td>\n",
       "      <td>0.113041</td>\n",
       "      <td>0.000000</td>\n",
       "      <td>0.755856</td>\n",
       "      <td>1.361057</td>\n",
       "      <td>0.986610</td>\n",
       "      <td>0.838085</td>\n",
       "      <td>1.133295</td>\n",
       "      <td>0.872245</td>\n",
       "      <td>0.808487</td>\n",
       "    </tr>\n",
       "    <tr>\n",
       "      <th>4</th>\n",
       "      <td>0</td>\n",
       "      <td>1.595839</td>\n",
       "      <td>-0.607811</td>\n",
       "      <td>0.007075</td>\n",
       "      <td>1.818450</td>\n",
       "      <td>-0.111906</td>\n",
       "      <td>0.847550</td>\n",
       "      <td>-0.566437</td>\n",
       "      <td>1.581239</td>\n",
       "      <td>2.173076</td>\n",
       "      <td>...</td>\n",
       "      <td>-0.654227</td>\n",
       "      <td>-1.274345</td>\n",
       "      <td>3.101961</td>\n",
       "      <td>0.823761</td>\n",
       "      <td>0.938191</td>\n",
       "      <td>0.971758</td>\n",
       "      <td>0.789176</td>\n",
       "      <td>0.430553</td>\n",
       "      <td>0.961357</td>\n",
       "      <td>0.957818</td>\n",
       "    </tr>\n",
       "  </tbody>\n",
       "</table>\n",
       "<p>5 rows × 29 columns</p>\n",
       "</div>"
      ],
      "text/plain": [
       "   class  lepton_pT  lepton_eta  lepton_phi  missing_energy_magnitude  \\\n",
       "0      1   0.907542    0.329147    0.359412                  1.497970   \n",
       "1      1   0.798835    1.470639   -1.635975                  0.453773   \n",
       "2      0   1.344385   -0.876626    0.935913                  1.992050   \n",
       "3      1   1.105009    0.321356    1.522401                  0.882808   \n",
       "4      0   1.595839   -0.607811    0.007075                  1.818450   \n",
       "\n",
       "   missing_energy_phi    jet1pt   jet1eta   jet1phi  jet1b-tag  ...   jet4eta  \\\n",
       "0           -0.313010  1.095531 -0.557525 -1.588230   2.173076  ... -1.138930   \n",
       "1            0.425629  1.104875  1.282322  1.381664   0.000000  ...  1.128848   \n",
       "2            0.882454  1.786066 -1.646778 -0.942383   0.000000  ... -0.678379   \n",
       "3           -1.205349  0.681466 -1.070464 -0.921871   0.000000  ... -0.373566   \n",
       "4           -0.111906  0.847550 -0.566437  1.581239   2.173076  ... -0.654227   \n",
       "\n",
       "    jet4phi  jet4b-tag      m_jj     m_jjj      m_lv     m_jlv      m_bb  \\\n",
       "0 -0.000819   0.000000  0.302220  0.833048  0.985700  0.978098  0.779732   \n",
       "1  0.900461   0.000000  0.909753  1.108330  0.985692  0.951331  0.803252   \n",
       "2 -1.360356   0.000000  0.946652  1.028704  0.998656  0.728281  0.869200   \n",
       "3  0.113041   0.000000  0.755856  1.361057  0.986610  0.838085  1.133295   \n",
       "4 -1.274345   3.101961  0.823761  0.938191  0.971758  0.789176  0.430553   \n",
       "\n",
       "      m_wbb    m_wwbb  \n",
       "0  0.992356  0.798343  \n",
       "1  0.865924  0.780118  \n",
       "2  1.026736  0.957904  \n",
       "3  0.872245  0.808487  \n",
       "4  0.961357  0.957818  \n",
       "\n",
       "[5 rows x 29 columns]"
      ]
     },
     "execution_count": 4,
     "metadata": {},
     "output_type": "execute_result"
    }
   ],
   "source": [
    "df = pd.read_csv('higgs_cleaned.csv')\n",
    "df.head()"
   ]
  },
  {
   "cell_type": "code",
   "execution_count": 5,
   "id": "charged-night",
   "metadata": {},
   "outputs": [],
   "source": [
    "X, y = df.drop('class', axis=1), df['class']\n",
    "X_train, X_test, y_train, y_test = train_test_split(X, y, test_size=0.2, random_state=1864)"
   ]
  },
  {
   "cell_type": "markdown",
   "id": "everyday-composer",
   "metadata": {},
   "source": [
    "# No fine-tuning"
   ]
  },
  {
   "cell_type": "code",
   "execution_count": 15,
   "id": "adequate-radio",
   "metadata": {},
   "outputs": [
    {
     "name": "stderr",
     "output_type": "stream",
     "text": [
      "/gpfs/space/home/rabiichu/.conda/envs/avalanche-env/lib/python3.8/site-packages/xgboost/sklearn.py:1224: UserWarning: The use of label encoder in XGBClassifier is deprecated and will be removed in a future release. To remove this warning, do the following: 1) Pass option use_label_encoder=False when constructing XGBClassifier object; and 2) Encode your labels (y) as integers starting with 0, i.e. 0, 1, 2, ..., [num_class - 1].\n",
      "  warnings.warn(label_encoder_deprecation_msg, UserWarning)\n"
     ]
    }
   ],
   "source": [
    "clf = XGBClassifier(random_state = 1864)\n",
    "start = time.time()\n",
    "clf.fit(X_train, y_train)\n",
    "end = time.time()\n",
    "xgb_preds = clf.predict(X_test)"
   ]
  },
  {
   "cell_type": "code",
   "execution_count": 16,
   "id": "considerable-convert",
   "metadata": {},
   "outputs": [
    {
     "name": "stdout",
     "output_type": "stream",
     "text": [
      "Vanilla XGB Scores:\n",
      "Accuracy: 0.7187149413564508\n",
      "ROC-AUC: 0.7968862029195385\n",
      "************************************************************\n",
      "Detailed Report:\n",
      "              precision    recall  f1-score   support\n",
      "\n",
      "           0       0.71      0.68      0.70      9342\n",
      "           1       0.72      0.75      0.74     10268\n",
      "\n",
      "    accuracy                           0.72     19610\n",
      "   macro avg       0.72      0.72      0.72     19610\n",
      "weighted avg       0.72      0.72      0.72     19610\n",
      "\n"
     ]
    }
   ],
   "source": [
    "print('Vanilla XGB Scores:')\n",
    "print('Accuracy:', accuracy_score(y_test, xgb_preds))\n",
    "print('ROC-AUC:', roc_auc_score(y_test, clf.predict_proba(X_test)[:, 1]))\n",
    "print('*'*60)\n",
    "print('Detailed Report:')\n",
    "print(classification_report(y_test, xgb_preds))"
   ]
  },
  {
   "cell_type": "markdown",
   "id": "rational-vocabulary",
   "metadata": {},
   "source": [
    "# HPO with hyperopt"
   ]
  },
  {
   "cell_type": "code",
   "execution_count": 10,
   "id": "israeli-singer",
   "metadata": {},
   "outputs": [],
   "source": [
    "class objective_fn(object):\n",
    "    \n",
    "    def __init__(self, X_train, y_train):\n",
    "        self.X_train = X_train\n",
    "        self.y_train = y_train\n",
    "\n",
    "    def process(self, fn_name, space, trials, algo, max_evals):\n",
    "        fn = getattr(self, fn_name)\n",
    "        try:\n",
    "            result = fmin(fn=fn, space=space, algo=algo, max_evals=max_evals, trials=trials)\n",
    "        except Exception as e:\n",
    "            return {'status': STATUS_FAIL,\n",
    "                    'exception': str(e)}\n",
    "        return result, trials\n",
    "    \n",
    "    def ctb_clf(self, params):\n",
    "        clf = cb.CatBoostClassifier(**params['clf_params'], verbose=False, task_type=\"GPU\")\n",
    "        acc = cross_val_score(clf, self.X_train, self.y_train, scoring='accuracy', fit_params=params['fit_params']).mean()\n",
    "        return {\"loss\": -acc, \"status\": STATUS_OK}   \n",
    "    \n",
    "    def xgb_clf(self, params):\n",
    "        clf = XGBClassifier(**params['clf_params'], verbose=False)\n",
    "        y_train_int = self.y_train.astype(int) # since XGBoost label encoder is deprecated\n",
    "        acc = cross_val_score(clf, self.X_train, self.y_train, scoring='accuracy', fit_params=params['fit_params']).mean()\n",
    "        return {\"loss\": -acc, \"status\": STATUS_OK}   "
   ]
  },
  {
   "cell_type": "markdown",
   "id": "productive-truck",
   "metadata": {},
   "source": [
    "# First result"
   ]
  },
  {
   "cell_type": "code",
   "execution_count": 7,
   "id": "cardiovascular-memorial",
   "metadata": {},
   "outputs": [
    {
     "data": {
      "image/png": "[encoded data removed]",
      "text/plain": [
       "<Figure size 432x288 with 1 Axes>"
      ]
     },
     "metadata": {
      "needs_background": "light"
     },
     "output_type": "display_data"
    }
   ],
   "source": [
    "values = []\n",
    "space = hp.loguniform('learning_rate', -5.0, -0.7)\n",
    "for x in range(100000):\n",
    "    values.append(pyll.stochastic.sample(space))\n",
    "df = pd.DataFrame(values, columns=[\"learning_rate\"])\n",
    "sns.kdeplot(data=df, x='learning_rate')\n",
    "plt.title('KDE plot for learning_rate hyperparameter')\n",
    "plt.show()"
   ]
  },
  {
   "cell_type": "code",
   "execution_count": 11,
   "id": "outside-roommate",
   "metadata": {},
   "outputs": [],
   "source": [
    "# XGB search space\n",
    "classifier_parameters = {\n",
    "    'learning_rate': hp.loguniform('learning_rate', -5.0, -0.7),\n",
    "    'max_depth': hp.choice('depth', [6, 7, 8, 9, 10]),  \n",
    "    'subsample': hp.choice('subsample', [0.5, 0.75, 0.9, 1.]),\n",
    "    'colsample_bytree': hp.choice('colsample_bytree', [0.25, 0.5, 0.75, 0.9, 1.]),\n",
    "    'n_estimators': hp.choice('n_estimators', [50, 100, 200, 300, 500, 700, 1000]),\n",
    "    'tree_method': 'gpu_hist',\n",
    "    'verbosity': 0,\n",
    "    'random_seed': 1864,\n",
    "    'use_label_encoder': False\n",
    "}\n",
    "\n",
    "fit_parameters = {\n",
    "#     'early_stopping_rounds': 30,\n",
    "    'verbose': False\n",
    "}\n",
    "\n",
    "xgb_para = dict()\n",
    "xgb_para['clf_params'] = classifier_parameters\n",
    "xgb_para['fit_params'] = fit_parameters"
   ]
  },
  {
   "cell_type": "code",
   "execution_count": 13,
   "id": "finished-theory",
   "metadata": {},
   "outputs": [
    {
     "name": "stdout",
     "output_type": "stream",
     "text": [
      "100%|██████████████████████████████████████████████████████████████████████████████████████████████████████████████████| 350/350 [5:18:52<00:00, 54.67s/trial, best loss: -0.731613092649692]\n"
     ]
    }
   ],
   "source": [
    "obj = objective_fn(X_train, y_train)\n",
    "\n",
    "trials = Trials()\n",
    "start = time.time()\n",
    "best = obj.process(fn_name='xgb_clf', space=xgb_para, trials=trials, algo=tpe.suggest, max_evals=350)\n",
    "end = time.time()\n",
    "\n",
    "total_time = end - start"
   ]
  },
  {
   "cell_type": "code",
   "execution_count": 14,
   "id": "moderate-conviction",
   "metadata": {},
   "outputs": [
    {
     "data": {
      "text/plain": [
       "{'colsample_bytree': 0.9,\n",
       " 'learning_rate': 0.019961510107543195,\n",
       " 'max_depth': 9,\n",
       " 'n_estimators': 1000,\n",
       " 'random_seed': 1864,\n",
       " 'subsample': 0.75,\n",
       " 'tree_method': 'gpu_hist',\n",
       " 'use_label_encoder': False,\n",
       " 'verbosity': 0}"
      ]
     },
     "execution_count": 14,
     "metadata": {},
     "output_type": "execute_result"
    }
   ],
   "source": [
    "opt_params = space_eval(classifier_parameters, best[0])\n",
    "opt_params"
   ]
  },
  {
   "cell_type": "code",
   "execution_count": 15,
   "id": "animal-institute",
   "metadata": {},
   "outputs": [
    {
     "name": "stdout",
     "output_type": "stream",
     "text": [
      "Test accuracy of the current optimal XGBoost model: 0.7293727689954105\n"
     ]
    }
   ],
   "source": [
    "clf = XGBClassifier(\n",
    "    **opt_params\n",
    ")\n",
    "\n",
    "clf.fit(X_train, y_train, **fit_parameters)\n",
    "preds = clf.predict(X_test)\n",
    "print(f'Test accuracy of the current optimal XGBoost model: {accuracy_score(y_test, preds)}')"
   ]
  },
  {
   "cell_type": "markdown",
   "id": "harmful-maria",
   "metadata": {},
   "source": [
    "## Second result"
   ]
  },
  {
   "cell_type": "code",
   "execution_count": 12,
   "id": "russian-karaoke",
   "metadata": {
    "tags": []
   },
   "outputs": [],
   "source": [
    "# XGB search space\n",
    "classifier_parameters = {\n",
    "    'learning_rate': hp.loguniform('learning_rate', -5.0, -0.7),\n",
    "    'max_depth': hp.choice('max_depth', [6, 7, 8, 9, 10]),  \n",
    "    'subsample': hp.choice('subsample', [0.5, 0.75, 0.9, 1.]),\n",
    "    'colsample_bytree': hp.choice('colsample_bytree', [0.5, 0.75, 0.9, 1.]),\n",
    "    'colsample_bylevel': hp.choice('colsample_bylevel', [0.5, 0.75, 0.9, 1.]),\n",
    "    'colsample_bynode': hp.choice('colsample_bynode', [0.5, 0.75, 0.9, 1.]),\n",
    "    'n_estimators': hp.choice('n_estimators', [50, 100, 200, 300, 500, 700, 1000]),\n",
    "    'min_child_weight': hp.choice('min_child_weight', [1, 2, 3, 4, 5, 6, 7, 8, 9, 10]),\n",
    "    'tree_method': 'gpu_hist',\n",
    "    'verbosity': 0,\n",
    "    'random_seed': 1864,\n",
    "    'use_label_encoder': False\n",
    "}\n",
    "\n",
    "fit_parameters = {\n",
    "#     'early_stopping_rounds': 30,\n",
    "    'verbose': False\n",
    "}\n",
    "\n",
    "xgb_para = dict()\n",
    "xgb_para['clf_params'] = classifier_parameters\n",
    "xgb_para['fit_params'] = fit_parameters"
   ]
  },
  {
   "cell_type": "code",
   "execution_count": 13,
   "id": "three-petersburg",
   "metadata": {},
   "outputs": [
    {
     "name": "stdout",
     "output_type": "stream",
     "text": [
      "100%|█████████████████████████████████████████████████████████████████████████████████████████████████████████████████| 300/300 [4:18:21<00:00, 51.67s/trial, best loss: -0.7313580955033557]\n"
     ]
    }
   ],
   "source": [
    "obj = objective_fn(X_train, y_train)\n",
    "\n",
    "trials = Trials()\n",
    "start = time.time()\n",
    "best = obj.process(fn_name='xgb_clf', space=xgb_para, trials=trials, algo=tpe.suggest, max_evals=300)\n",
    "end = time.time()\n",
    "\n",
    "total_time = end - start"
   ]
  },
  {
   "cell_type": "code",
   "execution_count": 14,
   "id": "foster-celebrity",
   "metadata": {},
   "outputs": [
    {
     "data": {
      "text/plain": [
       "{'colsample_bylevel': 0.9,\n",
       " 'colsample_bynode': 0.75,\n",
       " 'colsample_bytree': 0.75,\n",
       " 'learning_rate': 0.023094135915937453,\n",
       " 'max_depth': 10,\n",
       " 'min_child_weight': 2,\n",
       " 'n_estimators': 700,\n",
       " 'random_seed': 1864,\n",
       " 'subsample': 0.9,\n",
       " 'tree_method': 'gpu_hist',\n",
       " 'use_label_encoder': False,\n",
       " 'verbosity': 0}"
      ]
     },
     "execution_count": 14,
     "metadata": {},
     "output_type": "execute_result"
    }
   ],
   "source": [
    "opt_params = space_eval(classifier_parameters, best[0])\n",
    "opt_params"
   ]
  },
  {
   "cell_type": "code",
   "execution_count": 15,
   "id": "solved-richardson",
   "metadata": {},
   "outputs": [
    {
     "name": "stdout",
     "output_type": "stream",
     "text": [
      "Test accuracy of the current optimal XGBoost model: 0.7291687914329423\n"
     ]
    }
   ],
   "source": [
    "clf = XGBClassifier(\n",
    "    **opt_params\n",
    ")\n",
    "\n",
    "clf.fit(X_train, y_train, **fit_parameters)\n",
    "preds = clf.predict(X_test)\n",
    "print(f'Test accuracy of the current optimal XGBoost model: {accuracy_score(y_test, preds)}')"
   ]
  }
 ],
 "metadata": {
  "kernelspec": {
   "display_name": "Python 3",
   "language": "python",
   "name": "python3"
  },
  "language_info": {
   "codemirror_mode": {
    "name": "ipython",
    "version": 3
   },
   "file_extension": ".py",
   "mimetype": "text/x-python",
   "name": "python",
   "nbconvert_exporter": "python",
   "pygments_lexer": "ipython3",
   "version": "3.6.12"
  }
 },
 "nbformat": 4,
 "nbformat_minor": 5
}
