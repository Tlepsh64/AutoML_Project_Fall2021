{
 "cells": [
  {
   "cell_type": "markdown",
   "id": "521df25e",
   "metadata": {},
   "source": [
    "## Getting the Predictions on Small Test Set"
   ]
  },
  {
   "cell_type": "code",
   "execution_count": 20,
   "id": "ca3c9242",
   "metadata": {},
   "outputs": [],
   "source": [
    "import catboost as cb\n",
    "import pandas as pd\n",
    "from sklearn.model_selection import train_test_split\n",
    "from sklearn.metrics import accuracy_score\n",
    "from statsmodels.stats.contingency_tables import mcnemar"
   ]
  },
  {
   "cell_type": "code",
   "execution_count": 2,
   "id": "914f51f8",
   "metadata": {},
   "outputs": [],
   "source": [
    "df = pd.read_csv('higgs_cleaned.csv')"
   ]
  },
  {
   "cell_type": "code",
   "execution_count": 3,
   "id": "1cce2822",
   "metadata": {},
   "outputs": [],
   "source": [
    "X, y = df.drop('class', axis=1), df['class']\n",
    "X_train, X_test, y_train, y_test = train_test_split(X, y, test_size=0.2, random_state=1864)"
   ]
  },
  {
   "cell_type": "code",
   "execution_count": 9,
   "id": "1fbd2acc",
   "metadata": {},
   "outputs": [
    {
     "name": "stdout",
     "output_type": "stream",
     "text": [
      "Train / test split size: train set size: 78439, test set size: 19610\n"
     ]
    }
   ],
   "source": [
    "print(f'Train / test split size: train set size: {X_train.shape[0]}, test set size: {X_test.shape[0]}')"
   ]
  },
  {
   "cell_type": "code",
   "execution_count": 4,
   "id": "75b882fa",
   "metadata": {},
   "outputs": [],
   "source": [
    "default_clf = cb.CatBoostClassifier(random_state=1864)\n",
    "default_clf.fit(X_train, y_train, verbose= False)\n",
    "default_preds = default_clf.predict(X_test)"
   ]
  },
  {
   "cell_type": "code",
   "execution_count": 23,
   "id": "062f10fe",
   "metadata": {},
   "outputs": [],
   "source": [
    "best_catboost = {'bagging_temperature': 0.2879213699517955,\n",
    " 'border_count': 128,\n",
    " 'depth': 10,\n",
    " 'eval_metric': 'Accuracy',\n",
    " 'l2_leaf_reg': 5,\n",
    " 'learning_rate': 0.031731849925222905,\n",
    " 'loss_function': 'Logloss',\n",
    " 'random_seed': 1864,\n",
    " 'random_strength': 59.7185747097968}"
   ]
  },
  {
   "cell_type": "code",
   "execution_count": 24,
   "id": "a801ec97",
   "metadata": {},
   "outputs": [],
   "source": [
    "tuned_clf = cb.CatBoostClassifier(**opt_params)\n",
    "tuned_clf.fit(X_train, y_train, verbose=False)\n",
    "tuned_preds = tuned_clf.predict(X_test)"
   ]
  },
  {
   "cell_type": "code",
   "execution_count": 27,
   "id": "ff4506b9",
   "metadata": {},
   "outputs": [
    {
     "name": "stdout",
     "output_type": "stream",
     "text": [
      "Test accuracy of the default catboost model: 0.7282508924018358\n",
      "Test accuracy of the optimal catboost model: 0.7291177970423254\n"
     ]
    }
   ],
   "source": [
    "print(f'Test accuracy of the default catboost model: {accuracy_score(y_test, default_preds)}')\n",
    "print(f'Test accuracy of the optimal catboost model: {accuracy_score(y_test, tuned_preds)}')"
   ]
  },
  {
   "cell_type": "code",
   "execution_count": 26,
   "id": "bc85dadc",
   "metadata": {},
   "outputs": [],
   "source": [
    "#y_test.to_csv('higgs_test_small.csv')\n",
    "#default_preds.to_csv('higgs_default_preds_small.csv')\n",
    "#tuned_preds.to_csv('higgs_tuned_preds_small.csv')"
   ]
  },
  {
   "cell_type": "markdown",
   "id": "6c4dbf67",
   "metadata": {},
   "source": [
    "## Significance Testing"
   ]
  },
  {
   "cell_type": "code",
   "execution_count": 28,
   "id": "e102e4f8",
   "metadata": {},
   "outputs": [],
   "source": [
    "tuned_preds = pd.read_csv('catboost_optimal_on_small_set.csv', header=None, dtype=int)"
   ]
  },
  {
   "cell_type": "code",
   "execution_count": 35,
   "id": "b2676c90",
   "metadata": {},
   "outputs": [
    {
     "data": {
      "text/plain": [
       "array([1, 0, 1, ..., 0, 0, 1], dtype=int64)"
      ]
     },
     "execution_count": 35,
     "metadata": {},
     "output_type": "execute_result"
    }
   ],
   "source": [
    "default_preds"
   ]
  },
  {
   "cell_type": "code",
   "execution_count": 36,
   "id": "c653d70c",
   "metadata": {},
   "outputs": [],
   "source": [
    "y_test = y_test.reset_index()['class']\n",
    "#default_preds = default_preds.reset_index()['class']"
   ]
  },
  {
   "cell_type": "code",
   "execution_count": 37,
   "id": "a7bfcfbc",
   "metadata": {},
   "outputs": [
    {
     "data": {
      "text/html": [
       "<div>\n",
       "<style scoped>\n",
       "    .dataframe tbody tr th:only-of-type {\n",
       "        vertical-align: middle;\n",
       "    }\n",
       "\n",
       "    .dataframe tbody tr th {\n",
       "        vertical-align: top;\n",
       "    }\n",
       "\n",
       "    .dataframe thead th {\n",
       "        text-align: right;\n",
       "    }\n",
       "</style>\n",
       "<table border=\"1\" class=\"dataframe\">\n",
       "  <thead>\n",
       "    <tr style=\"text-align: right;\">\n",
       "      <th></th>\n",
       "      <th>ground_truth</th>\n",
       "      <th>y_pred_cb_default</th>\n",
       "      <th>y_pred_cb_tuned</th>\n",
       "    </tr>\n",
       "  </thead>\n",
       "  <tbody>\n",
       "    <tr>\n",
       "      <th>0</th>\n",
       "      <td>0</td>\n",
       "      <td>1</td>\n",
       "      <td>1</td>\n",
       "    </tr>\n",
       "    <tr>\n",
       "      <th>1</th>\n",
       "      <td>0</td>\n",
       "      <td>0</td>\n",
       "      <td>0</td>\n",
       "    </tr>\n",
       "    <tr>\n",
       "      <th>2</th>\n",
       "      <td>1</td>\n",
       "      <td>1</td>\n",
       "      <td>1</td>\n",
       "    </tr>\n",
       "    <tr>\n",
       "      <th>3</th>\n",
       "      <td>0</td>\n",
       "      <td>0</td>\n",
       "      <td>0</td>\n",
       "    </tr>\n",
       "    <tr>\n",
       "      <th>4</th>\n",
       "      <td>1</td>\n",
       "      <td>0</td>\n",
       "      <td>0</td>\n",
       "    </tr>\n",
       "  </tbody>\n",
       "</table>\n",
       "</div>"
      ],
      "text/plain": [
       "   ground_truth  y_pred_cb_default  y_pred_cb_tuned\n",
       "0             0                  1                1\n",
       "1             0                  0                0\n",
       "2             1                  1                1\n",
       "3             0                  0                0\n",
       "4             1                  0                0"
      ]
     },
     "execution_count": 37,
     "metadata": {},
     "output_type": "execute_result"
    }
   ],
   "source": [
    "mc_data = pd.DataFrame()\n",
    "mc_data['ground_truth'] = y_test\n",
    "mc_data['y_pred_cb_default'] = default_preds\n",
    "mc_data['y_pred_cb_tuned'] = tuned_preds\n",
    "mc_data.head()"
   ]
  },
  {
   "cell_type": "code",
   "execution_count": 38,
   "id": "1181b1fc",
   "metadata": {},
   "outputs": [
    {
     "data": {
      "text/html": [
       "<div>\n",
       "<style scoped>\n",
       "    .dataframe tbody tr th:only-of-type {\n",
       "        vertical-align: middle;\n",
       "    }\n",
       "\n",
       "    .dataframe tbody tr th {\n",
       "        vertical-align: top;\n",
       "    }\n",
       "\n",
       "    .dataframe thead th {\n",
       "        text-align: right;\n",
       "    }\n",
       "</style>\n",
       "<table border=\"1\" class=\"dataframe\">\n",
       "  <thead>\n",
       "    <tr style=\"text-align: right;\">\n",
       "      <th></th>\n",
       "      <th>ground_truth</th>\n",
       "      <th>y_pred_cb_default</th>\n",
       "      <th>y_pred_cb_tuned</th>\n",
       "      <th>correct_cb_default</th>\n",
       "      <th>correct_cb_tuned</th>\n",
       "    </tr>\n",
       "  </thead>\n",
       "  <tbody>\n",
       "    <tr>\n",
       "      <th>0</th>\n",
       "      <td>0</td>\n",
       "      <td>1</td>\n",
       "      <td>1</td>\n",
       "      <td>No</td>\n",
       "      <td>No</td>\n",
       "    </tr>\n",
       "    <tr>\n",
       "      <th>1</th>\n",
       "      <td>0</td>\n",
       "      <td>0</td>\n",
       "      <td>0</td>\n",
       "      <td>Yes</td>\n",
       "      <td>Yes</td>\n",
       "    </tr>\n",
       "    <tr>\n",
       "      <th>2</th>\n",
       "      <td>1</td>\n",
       "      <td>1</td>\n",
       "      <td>1</td>\n",
       "      <td>Yes</td>\n",
       "      <td>Yes</td>\n",
       "    </tr>\n",
       "    <tr>\n",
       "      <th>3</th>\n",
       "      <td>0</td>\n",
       "      <td>0</td>\n",
       "      <td>0</td>\n",
       "      <td>Yes</td>\n",
       "      <td>Yes</td>\n",
       "    </tr>\n",
       "    <tr>\n",
       "      <th>4</th>\n",
       "      <td>1</td>\n",
       "      <td>0</td>\n",
       "      <td>0</td>\n",
       "      <td>No</td>\n",
       "      <td>No</td>\n",
       "    </tr>\n",
       "  </tbody>\n",
       "</table>\n",
       "</div>"
      ],
      "text/plain": [
       "   ground_truth  y_pred_cb_default  y_pred_cb_tuned correct_cb_default  \\\n",
       "0             0                  1                1                 No   \n",
       "1             0                  0                0                Yes   \n",
       "2             1                  1                1                Yes   \n",
       "3             0                  0                0                Yes   \n",
       "4             1                  0                0                 No   \n",
       "\n",
       "  correct_cb_tuned  \n",
       "0               No  \n",
       "1              Yes  \n",
       "2              Yes  \n",
       "3              Yes  \n",
       "4               No  "
      ]
     },
     "execution_count": 38,
     "metadata": {},
     "output_type": "execute_result"
    }
   ],
   "source": [
    "mc_data.loc[mc_data['ground_truth']==mc_data['y_pred_cb_default'],'correct_cb_default']=\"Yes\"\n",
    "mc_data.loc[mc_data['ground_truth']==mc_data['y_pred_cb_tuned'],'correct_cb_tuned']=\"Yes\"\n",
    "mc_data.loc[mc_data['ground_truth']!=mc_data['y_pred_cb_default'],'correct_cb_default']=\"No\"\n",
    "mc_data.loc[mc_data['ground_truth']!=mc_data['y_pred_cb_tuned'],'correct_cb_tuned']=\"No\"\n",
    "mc_data.head()"
   ]
  },
  {
   "cell_type": "code",
   "execution_count": 39,
   "id": "1650ee86",
   "metadata": {},
   "outputs": [],
   "source": [
    "nr_corr_default_corr_tuned=0\n",
    "nr_corr_default_incorr_tuned=0\n",
    "nr_incorr_default_corr_tuned=0\n",
    "nr_incorr_default_incorr_tuned=0\n",
    "\n",
    "for index, row in mc_data.iterrows():\n",
    "    \n",
    "    if  row['correct_cb_default']== \"Yes\" and  row['correct_cb_tuned']==\"Yes\":\n",
    "        nr_corr_default_corr_tuned += 1\n",
    "        \n",
    "    elif row['correct_cb_default']== \"Yes\" and  row['correct_cb_tuned']==\"No\":\n",
    "        nr_corr_default_incorr_tuned += 1\n",
    "        \n",
    "    elif row['correct_cb_default']== \"No\" and  row['correct_cb_tuned']==\"Yes\":\n",
    "        nr_incorr_default_corr_tuned += 1\n",
    "        \n",
    "    elif row['correct_cb_default']== \"No\" and  row['correct_cb_tuned']==\"No\":\n",
    "        nr_incorr_default_incorr_tuned += 1"
   ]
  },
  {
   "cell_type": "code",
   "execution_count": 40,
   "id": "e303fd6f",
   "metadata": {},
   "outputs": [
    {
     "data": {
      "text/html": [
       "<div>\n",
       "<style scoped>\n",
       "    .dataframe tbody tr th:only-of-type {\n",
       "        vertical-align: middle;\n",
       "    }\n",
       "\n",
       "    .dataframe tbody tr th {\n",
       "        vertical-align: top;\n",
       "    }\n",
       "\n",
       "    .dataframe thead th {\n",
       "        text-align: right;\n",
       "    }\n",
       "</style>\n",
       "<table border=\"1\" class=\"dataframe\">\n",
       "  <thead>\n",
       "    <tr style=\"text-align: right;\">\n",
       "      <th></th>\n",
       "      <th>nr_correct_cb_default</th>\n",
       "      <th>nr_incorrect_cb_default</th>\n",
       "    </tr>\n",
       "  </thead>\n",
       "  <tbody>\n",
       "    <tr>\n",
       "      <th>nr_correct_cb_tuned</th>\n",
       "      <td>Yes/Yes</td>\n",
       "      <td>Yes/No</td>\n",
       "    </tr>\n",
       "    <tr>\n",
       "      <th>nr_incorrect_cb_tuned</th>\n",
       "      <td>No/Yes</td>\n",
       "      <td>No/No</td>\n",
       "    </tr>\n",
       "  </tbody>\n",
       "</table>\n",
       "</div>"
      ],
      "text/plain": [
       "                      nr_correct_cb_default nr_incorrect_cb_default\n",
       "nr_correct_cb_tuned                 Yes/Yes                  Yes/No\n",
       "nr_incorrect_cb_tuned                No/Yes                   No/No"
      ]
     },
     "execution_count": 40,
     "metadata": {},
     "output_type": "execute_result"
    }
   ],
   "source": [
    "contingency_table_df=pd.DataFrame(data={\"nr_correct_cb_default\":[\"Yes/Yes\",\"No/Yes\"], \n",
    "                                        \"nr_incorrect_cb_default\":[\"Yes/No\",\"No/No\"]}, \n",
    "                                  index=[\"nr_correct_cb_tuned\",\"nr_incorrect_cb_tuned\"])\n",
    "contingency_table_df"
   ]
  },
  {
   "cell_type": "code",
   "execution_count": 41,
   "id": "ae080578",
   "metadata": {},
   "outputs": [
    {
     "data": {
      "text/html": [
       "<div>\n",
       "<style scoped>\n",
       "    .dataframe tbody tr th:only-of-type {\n",
       "        vertical-align: middle;\n",
       "    }\n",
       "\n",
       "    .dataframe tbody tr th {\n",
       "        vertical-align: top;\n",
       "    }\n",
       "\n",
       "    .dataframe thead th {\n",
       "        text-align: right;\n",
       "    }\n",
       "</style>\n",
       "<table border=\"1\" class=\"dataframe\">\n",
       "  <thead>\n",
       "    <tr style=\"text-align: right;\">\n",
       "      <th></th>\n",
       "      <th>nr_correct_cb_default</th>\n",
       "      <th>nr_incorrect_cb_default</th>\n",
       "    </tr>\n",
       "  </thead>\n",
       "  <tbody>\n",
       "    <tr>\n",
       "      <th>nr_correct_cb_tuned</th>\n",
       "      <td>13648</td>\n",
       "      <td>699</td>\n",
       "    </tr>\n",
       "    <tr>\n",
       "      <th>nr_incorrect_cb_tuned</th>\n",
       "      <td>633</td>\n",
       "      <td>4630</td>\n",
       "    </tr>\n",
       "  </tbody>\n",
       "</table>\n",
       "</div>"
      ],
      "text/plain": [
       "                      nr_correct_cb_default nr_incorrect_cb_default\n",
       "nr_correct_cb_tuned                   13648                     699\n",
       "nr_incorrect_cb_tuned                   633                    4630"
      ]
     },
     "execution_count": 41,
     "metadata": {},
     "output_type": "execute_result"
    }
   ],
   "source": [
    "contingency_table_df.iloc[0,0] = nr_corr_default_corr_tuned\n",
    "contingency_table_df.iloc[0,1] = nr_incorr_default_corr_tuned\n",
    "contingency_table_df.iloc[1,0] = nr_corr_default_incorr_tuned\n",
    "contingency_table_df.iloc[1,1] = nr_incorr_default_incorr_tuned\n",
    "\n",
    "contingency_table_df"
   ]
  },
  {
   "cell_type": "code",
   "execution_count": 43,
   "id": "d7895986",
   "metadata": {},
   "outputs": [
    {
     "name": "stdout",
     "output_type": "stream",
     "text": [
      "Test statistic=3.172, p-value=0.075\n",
      "\n",
      "Same proportions of errors for the used models (fail to reject H0). \n",
      "Therefore the performance difference between two models are not statistically significant.\n"
     ]
    }
   ],
   "source": [
    "contingency_table = [[13648, 699],\n",
    "                     [633, 4630]]\n",
    "\n",
    "# Apply McNemar test\n",
    "result = mcnemar(contingency_table, exact=False, correction=True)\n",
    "print('Test statistic=%.3f, p-value=%.3f' % (result.statistic, result.pvalue))\n",
    "print()\n",
    "# interpret the p-value\n",
    "alpha = 0.05\n",
    "if result.pvalue > alpha:\n",
    "    print(\"\"\"Same proportions of errors for the used models (fail to reject H0). \n",
    "Therefore the performance difference between two models are not statistically significant.\"\"\")\n",
    "\n",
    "else:\n",
    "    print(\"\"\"Different proportions of errors for the used models (reject H0). \n",
    "Therefore the performance difference between two models are statistically significant.\"\"\")"
   ]
  },
  {
   "cell_type": "code",
   "execution_count": null,
   "id": "f5bb10c8",
   "metadata": {},
   "outputs": [],
   "source": []
  }
 ],
 "metadata": {
  "kernelspec": {
   "display_name": "Python 3",
   "language": "python",
   "name": "python3"
  },
  "language_info": {
   "codemirror_mode": {
    "name": "ipython",
    "version": 3
   },
   "file_extension": ".py",
   "mimetype": "text/x-python",
   "name": "python",
   "nbconvert_exporter": "python",
   "pygments_lexer": "ipython3",
   "version": "3.8.10"
  }
 },
 "nbformat": 4,
 "nbformat_minor": 5
}
